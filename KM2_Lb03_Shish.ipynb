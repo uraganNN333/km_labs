{
 "cells": [
  {
   "cell_type": "markdown",
   "id": "9ade750f-b4b9-41ed-8423-36537baac590",
   "metadata": {},
   "source": [
    "# Лабораторная работа 3\n",
    "# Анимация движения секущей прямой к заданной линии на плоскости"
   ]
  },
  {
   "cell_type": "markdown",
   "id": "255dd056-0a94-4745-9800-99bf1166b9c1",
   "metadata": {
    "jp-MarkdownHeadingCollapsed": true
   },
   "source": [
    "#### Шиш Кирилл, 14.03 "
   ]
  },
  {
   "cell_type": "markdown",
   "id": "5e9cbdae-c02d-4126-a77e-27cbe1b09891",
   "metadata": {},
   "source": [
    "# Задание 3.1. Анимированное построение линии на плоскости"
   ]
  },
  {
   "cell_type": "markdown",
   "id": "76a6ee5b-316a-4885-9b44-01c54783d45d",
   "metadata": {},
   "source": [
    "## Реализация Задания 3.1a"
   ]
  },
  {
   "cell_type": "code",
   "execution_count": 1,
   "id": "ea596324-20ab-49f8-bb1b-e2d832404ab9",
   "metadata": {},
   "outputs": [],
   "source": [
    "import ipympl\n",
    "import sympy"
   ]
  },
  {
   "cell_type": "code",
   "execution_count": 2,
   "id": "92d62ad9-408e-4167-9b23-34020fa95b6f",
   "metadata": {},
   "outputs": [],
   "source": [
    "import ipywidgets"
   ]
  },
  {
   "cell_type": "code",
   "execution_count": 3,
   "id": "d39782c1-0393-4053-9285-247e3fbe593b",
   "metadata": {},
   "outputs": [],
   "source": [
    "import numpy as np"
   ]
  },
  {
   "cell_type": "code",
   "execution_count": 4,
   "id": "ec169b0f-0256-4375-a994-e12c63f086ce",
   "metadata": {},
   "outputs": [],
   "source": [
    "import matplotlib.pyplot as plt"
   ]
  },
  {
   "cell_type": "markdown",
   "id": "3df64ae8-eaaf-4013-8703-df5fd55b2d95",
   "metadata": {},
   "source": [
    "Для построения анимации будем использовать функцию `FuncAnimation` из модуля `animation` пакета `matplotlib`"
   ]
  },
  {
   "cell_type": "code",
   "execution_count": 5,
   "id": "d6035d55-b36e-4fca-acdc-4b88903895c5",
   "metadata": {},
   "outputs": [],
   "source": [
    "from matplotlib.animation import FuncAnimation"
   ]
  },
  {
   "cell_type": "code",
   "execution_count": 6,
   "id": "a15b7573-0ae0-4d73-8c93-4f804a461dde",
   "metadata": {},
   "outputs": [],
   "source": [
    "%matplotlib widget"
   ]
  },
  {
   "cell_type": "markdown",
   "id": "e3469abc-058e-4ee9-bb57-b396a30f13cd",
   "metadata": {},
   "source": [
    "Будем строить анимацию для функции вида $y(x) = \\sin(x)^4$ по значениям $x$, изменяющимся от $x_{min} = 1$ до $x_{max} = 5$ с шагом $step = 0.05$."
   ]
  },
  {
   "cell_type": "markdown",
   "id": "0fe67d92-e3cc-42b2-a719-a184b42a72bd",
   "metadata": {},
   "source": [
    "**Определение функции**  \n",
    "Определим функцию $y(x)$ с применением оператора `def`:"
   ]
  },
  {
   "cell_type": "code",
   "execution_count": 7,
   "id": "680781b1-e9a4-4d84-842a-f46666588607",
   "metadata": {},
   "outputs": [],
   "source": [
    "import numpy as np\n",
    "import matplotlib.pyplot as plt\n",
    "\n",
    "def y(x):\n",
    "    return np.sin(x)**4"
   ]
  },
  {
   "cell_type": "markdown",
   "id": "873a6d71-3c02-4f86-ae4f-51473f6cdb1a",
   "metadata": {},
   "source": [
    "**Создание переменных**  \n",
    "Определим границы изменения $x$ и шаг:"
   ]
  },
  {
   "cell_type": "code",
   "execution_count": 8,
   "id": "9a28de33-49cb-47f7-85cb-53e2448fd8d0",
   "metadata": {},
   "outputs": [],
   "source": [
    "x_min = 1.; x_max = 5.; step = 0.05"
   ]
  },
  {
   "cell_type": "markdown",
   "id": "a6d2fe5c-6ba2-44ce-b4cc-c5306ba89f99",
   "metadata": {},
   "source": [
    "**Создание массивов**\n",
    "Создадим массив `x_array`, содержащий равномерно распределенные числа на отрезке $[x_{min}, x_{max}]$ с шагом `step`, с помощью функции `arange`. Затем создадим массив `y_array`, содержащий соответствующие значения $y$, используя определённую ранее функцию `y`:"
   ]
  },
  {
   "cell_type": "code",
   "execution_count": 9,
   "id": "dca2c1c7-dad3-4b05-b854-e44e3d42e988",
   "metadata": {},
   "outputs": [],
   "source": [
    "x_array = np.arange(x_min, x_max, step)\n",
    "y_array = y(x_array)"
   ]
  },
  {
   "cell_type": "markdown",
   "id": "0827d5cc-c606-41e7-8539-c0c005b7012e",
   "metadata": {},
   "source": [
    "**Формирование матрицы координат**  \n",
    "Из двух массивов `x_array` и `y_array` создадим матрицу `matrix`, содержащую координаты точек графика функции $y(x)$. Матрица будет состоять из двух столбцов: первый содержит $x$-координаты, второй — $y$-координаты:"
   ]
  },
  {
   "cell_type": "code",
   "execution_count": 10,
   "id": "c76bc870-f30d-4889-bb1a-f8279ec0a62c",
   "metadata": {},
   "outputs": [],
   "source": [
    "matrix = np.transpose([x_array, y_array])"
   ]
  },
  {
   "cell_type": "markdown",
   "id": "6f0d30c8-8ef7-44ee-80fc-cbf7f9b57b69",
   "metadata": {},
   "source": [
    "**Создание графического окна**  \n",
    "С помощью функции `figure` из модуля `pyplot` создадим графическое окно `fig1`, в котором в дальнейшем будет отображаться анимация:"
   ]
  },
  {
   "cell_type": "code",
   "execution_count": 11,
   "id": "05179fe5-5d86-47de-abc7-01df371d052d",
   "metadata": {},
   "outputs": [
    {
     "data": {
      "application/vnd.jupyter.widget-view+json": {
       "model_id": "32b26a774a2a4bbbb9fbcb7bc93182c9",
       "version_major": 2,
       "version_minor": 0
      },
      "image/png": "[encoded data removed]",
      "text/html": [
       "\n",
       "            <div style=\"display: inline-block;\">\n",
       "                <div class=\"jupyter-widgets widget-label\" style=\"text-align: center;\">\n",
       "                    Figure\n",
       "                </div>\n",
       "                <img src='data:image/png;base64,iVBORw0KGgoAAAANSUhEUgAAAoAAAAHgCAYAAAA10dzkAAAAOXRFWHRTb2Z0d2FyZQBNYXRwbG90bGliIHZlcnNpb24zLjkuMiwgaHR0cHM6Ly9tYXRwbG90bGliLm9yZy8hTgPZAAAACXBIWXMAAA9hAAAPYQGoP6dpAAAIyUlEQVR4nO3WMQEAIAzAMMC/5+ECjiYKenbPzCwAADLO7wAAAN4ygAAAMQYQACDGAAIAxBhAAIAYAwgAEGMAAQBiDCAAQIwBBACIMYAAADEGEAAgxgACAMQYQACAGAMIABBjAAEAYgwgAECMAQQAiDGAAAAxBhAAIMYAAgDEGEAAgBgDCAAQYwABAGIMIABAjAEEAIgxgAAAMQYQACDGAAIAxBhAAIAYAwgAEGMAAQBiDCAAQIwBBACIMYAAADEGEAAgxgACAMQYQACAGAMIABBjAAEAYgwgAECMAQQAiDGAAAAxBhAAIMYAAgDEGEAAgBgDCAAQYwABAGIMIABAjAEEAIgxgAAAMQYQACDGAAIAxBhAAIAYAwgAEGMAAQBiDCAAQIwBBACIMYAAADEGEAAgxgACAMQYQACAGAMIABBjAAEAYgwgAECMAQQAiDGAAAAxBhAAIMYAAgDEGEAAgBgDCAAQYwABAGIMIABAjAEEAIgxgAAAMQYQACDGAAIAxBhAAIAYAwgAEGMAAQBiDCAAQIwBBACIMYAAADEGEAAgxgACAMQYQACAGAMIABBjAAEAYgwgAECMAQQAiDGAAAAxBhAAIMYAAgDEGEAAgBgDCAAQYwABAGIMIABAjAEEAIgxgAAAMQYQACDGAAIAxBhAAIAYAwgAEGMAAQBiDCAAQIwBBACIMYAAADEGEAAgxgACAMQYQACAGAMIABBjAAEAYgwgAECMAQQAiDGAAAAxBhAAIMYAAgDEGEAAgBgDCAAQYwABAGIMIABAjAEEAIgxgAAAMQYQACDGAAIAxBhAAIAYAwgAEGMAAQBiDCAAQIwBBACIMYAAADEGEAAgxgACAMQYQACAGAMIABBjAAEAYgwgAECMAQQAiDGAAAAxBhAAIMYAAgDEGEAAgBgDCAAQYwABAGIMIABAjAEEAIgxgAAAMQYQACDGAAIAxBhAAIAYAwgAEGMAAQBiDCAAQIwBBACIMYAAADEGEAAgxgACAMQYQACAGAMIABBjAAEAYgwgAECMAQQAiDGAAAAxBhAAIMYAAgDEGEAAgBgDCAAQYwABAGIMIABAjAEEAIgxgAAAMQYQACDGAAIAxBhAAIAYAwgAEGMAAQBiDCAAQIwBBACIMYAAADEGEAAgxgACAMQYQACAGAMIABBjAAEAYgwgAECMAQQAiDGAAAAxBhAAIMYAAgDEGEAAgBgDCAAQYwABAGIMIABAjAEEAIgxgAAAMQYQACDGAAIAxBhAAIAYAwgAEGMAAQBiDCAAQIwBBACIMYAAADEGEAAgxgACAMQYQACAGAMIABBjAAEAYgwgAECMAQQAiDGAAAAxBhAAIMYAAgDEGEAAgBgDCAAQYwABAGIMIABAjAEEAIgxgAAAMQYQACDGAAIAxBhAAIAYAwgAEGMAAQBiDCAAQIwBBACIMYAAADEGEAAgxgACAMQYQACAGAMIABBjAAEAYgwgAECMAQQAiDGAAAAxBhAAIMYAAgDEGEAAgBgDCAAQYwABAGIMIABAjAEEAIgxgAAAMQYQACDGAAIAxBhAAIAYAwgAEGMAAQBiDCAAQIwBBACIMYAAADEGEAAgxgACAMQYQACAGAMIABBjAAEAYgwgAECMAQQAiDGAAAAxBhAAIMYAAgDEGEAAgBgDCAAQYwABAGIMIABAjAEEAIgxgAAAMQYQACDGAAIAxBhAAIAYAwgAEGMAAQBiDCAAQIwBBACIMYAAADEGEAAgxgACAMQYQACAGAMIABBjAAEAYgwgAECMAQQAiDGAAAAxBhAAIMYAAgDEGEAAgBgDCAAQYwABAGIMIABAjAEEAIgxgAAAMQYQACDGAAIAxBhAAIAYAwgAEGMAAQBiDCAAQIwBBACIMYAAADEGEAAgxgACAMQYQACAGAMIABBjAAEAYgwgAECMAQQAiDGAAAAxBhAAIMYAAgDEGEAAgBgDCAAQYwABAGIMIABAjAEEAIgxgAAAMQYQACDGAAIAxBhAAIAYAwgAEGMAAQBiDCAAQIwBBACIMYAAADEGEAAgxgACAMQYQACAGAMIABBjAAEAYgwgAECMAQQAiDGAAAAxBhAAIMYAAgDEGEAAgBgDCAAQYwABAGIMIABAjAEEAIgxgAAAMQYQACDGAAIAxBhAAIAYAwgAEGMAAQBiDCAAQIwBBACIMYAAADEGEAAgxgACAMQYQACAGAMIABBjAAEAYgwgAECMAQQAiDGAAAAxBhAAIMYAAgDEGEAAgBgDCAAQYwABAGIMIABAjAEEAIgxgAAAMQYQACDGAAIAxBhAAIAYAwgAEGMAAQBiDCAAQIwBBACIMYAAADEGEAAgxgACAMQYQACAGAMIABBjAAEAYgwgAECMAQQAiDGAAAAxBhAAIMYAAgDEGEAAgBgDCAAQYwABAGIMIABAjAEEAIgxgAAAMQYQACDGAAIAxBhAAIAYAwgAEGMAAQBiDCAAQIwBBACIMYAAADEGEAAgxgACAMQYQACAGAMIABBjAAEAYgwgAECMAQQAiDGAAAAxBhAAIMYAAgDEGEAAgBgDCAAQYwABAGIMIABAjAEEAIgxgAAAMQYQACDGAAIAxBhAAIAYAwgAEGMAAQBiDCAAQIwBBACIMYAAADEGEAAgxgACAMQYQACAGAMIABBjAAEAYgwgAECMAQQAiDGAAAAxBhAAIMYAAgDEGEAAgBgDCAAQYwABAGIMIABAjAEEAIgxgAAAMQYQACDGAAIAxBhAAIAYAwgAEGMAAQBiDCAAQIwBBACIMYAAADEGEAAgxgACAMQYQACAGAMIABBjAAEAYgwgAECMAQQAiDGAAAAxBhAAIMYAAgDEGEAAgBgDCAAQYwABAGIMIABAjAEEAIgxgAAAMQYQACDGAAIAxBhAAIAYAwgAEGMAAQBiDCAAQIwBBACIMYAAADEGEAAgxgACAMQYQACAGAMIABBjAAEAYgwgAECMAQQAiDGAAAAxBhAAIMYAAgDEGEAAgBgDCAAQYwABAGIuJnkHvKensmIAAAAASUVORK5CYII=' width=640.0/>\n",
       "            </div>\n",
       "        "
      ],
      "text/plain": [
       "Canvas(toolbar=Toolbar(toolitems=[('Home', 'Reset original view', 'home', 'home'), ('Back', 'Back to previous …"
      ]
     },
     "metadata": {},
     "output_type": "display_data"
    }
   ],
   "source": [
    "fig1 = plt.figure()"
   ]
  },
  {
   "cell_type": "markdown",
   "id": "f2a6b325-d601-4548-96d2-c50f8e4a1aff",
   "metadata": {},
   "source": [
    "C помощью функции `axes` из модуля `pyplot` cоздадим графическую область `ax1` и зададим для нее пределы по осям"
   ]
  },
  {
   "cell_type": "code",
   "execution_count": 12,
   "id": "212de79e-038f-44f5-9233-5923509aea32",
   "metadata": {},
   "outputs": [
    {
     "data": {
      "text/plain": [
       "(0.5, 5.5, -0.499999995004082, 1.4996930655910048)"
      ]
     },
     "execution_count": 12,
     "metadata": {},
     "output_type": "execute_result"
    }
   ],
   "source": [
    "y_min, y_max = np.min(y_array), np.max(y_array)\n",
    "ax1 = plt.axes()\n",
    "plt.axis([x_min-0.5, x_max+0.5, y_min-0.5, y_max+0.5])\n"
   ]
  },
  {
   "cell_type": "markdown",
   "id": "a263a6ee-de86-4822-9e82-8bd177078d32",
   "metadata": {},
   "source": [
    "С помощью функции `plot` из пакета `pyplot` создадим в графической области\n",
    "`ax1` графический объект типа `Line2D` синего цвета, координаты которого пока не определены"
   ]
  },
  {
   "cell_type": "code",
   "execution_count": 13,
   "id": "c86298cb-996b-42a3-8f70-896ab093469b",
   "metadata": {},
   "outputs": [
    {
     "name": "stdout",
     "output_type": "stream",
     "text": [
      "<class 'matplotlib.lines.Line2D'>\n"
     ]
    },
    {
     "data": {
      "text/plain": [
       "(array([], dtype=float64), array([], dtype=float64))"
      ]
     },
     "execution_count": 13,
     "metadata": {},
     "output_type": "execute_result"
    }
   ],
   "source": [
    "line1, = ax1.plot([],[],'b')\n",
    "print(type(line1))\n",
    "line1.get_xdata(), line1.get_ydata()"
   ]
  },
  {
   "cell_type": "code",
   "execution_count": 14,
   "id": "973a6e0d-6738-461e-9c0a-2e925e4b4113",
   "metadata": {},
   "outputs": [
    {
     "data": {
      "text/plain": [
       "\u001b[1;31mSignature:\u001b[0m \u001b[0mline1\u001b[0m\u001b[1;33m.\u001b[0m\u001b[0mget_xdata\u001b[0m\u001b[1;33m(\u001b[0m\u001b[0morig\u001b[0m\u001b[1;33m=\u001b[0m\u001b[1;32mTrue\u001b[0m\u001b[1;33m)\u001b[0m\u001b[1;33m\u001b[0m\u001b[1;33m\u001b[0m\u001b[0m\n",
       "\u001b[1;31mDocstring:\u001b[0m\n",
       "Return the xdata.\n",
       "\n",
       "If *orig* is *True*, return the original data, else the\n",
       "processed data.\n",
       "\u001b[1;31mFile:\u001b[0m      c:\\users\\redmibook\\anaconda31\\lib\\site-packages\\matplotlib\\lines.py\n",
       "\u001b[1;31mType:\u001b[0m      method"
      ]
     },
     "metadata": {},
     "output_type": "display_data"
    }
   ],
   "source": [
    "?line1.get_xdata"
   ]
  },
  {
   "cell_type": "markdown",
   "id": "f5beffb9-a56d-488c-9d03-395512f62fe4",
   "metadata": {},
   "source": [
    "Определим пользовательскую функцию одного аргумента `at_frame1` , которая будет вызываться в каждом кадре анимации. </br>\n",
    "Единственный аргумент функции `at_frame1` является массивом из и координат точки графика функции. Функция `at_frame1` добавляет к графическому объекту `line1` точку с координатами $(x,y)$"
   ]
  },
  {
   "cell_type": "code",
   "execution_count": 15,
   "id": "8862e27f-e1ed-4c8c-8188-8138aebc2810",
   "metadata": {},
   "outputs": [],
   "source": [
    "def at_frame1(point):\n",
    " \"\"\"добавляет к объекту line1 точку с координатами (point[0],point[1])\n",
    "\n",
    " Arguments :\n",
    "\n",
    " point : массив из двух элементов\n",
    "\n",
    " Returns : None\n",
    " \"\"\"\n",
    " x_coord = list(line1.get_xdata())\n",
    " y_coord = list(line1.get_ydata())\n",
    "\n",
    " x_coord.append(point[0])\n",
    " y_coord.append(point[1])\n",
    "\n",
    " line1.set_data(x_coord, y_coord) "
   ]
  },
  {
   "cell_type": "code",
   "execution_count": 16,
   "id": "aee38b23-79ee-4924-82ec-021b6f9eab60",
   "metadata": {},
   "outputs": [
    {
     "data": {
      "text/plain": [
       "\u001b[1;31mSignature:\u001b[0m \u001b[0mline1\u001b[0m\u001b[1;33m.\u001b[0m\u001b[0mset_data\u001b[0m\u001b[1;33m(\u001b[0m\u001b[1;33m*\u001b[0m\u001b[0margs\u001b[0m\u001b[1;33m)\u001b[0m\u001b[1;33m\u001b[0m\u001b[1;33m\u001b[0m\u001b[0m\n",
       "\u001b[1;31mDocstring:\u001b[0m\n",
       "Set the x and y data.\n",
       "\n",
       "Parameters\n",
       "----------\n",
       "*args : (2, N) array or two 1D arrays\n",
       "\n",
       "See Also\n",
       "--------\n",
       "set_xdata\n",
       "set_ydata\n",
       "\u001b[1;31mFile:\u001b[0m      c:\\users\\redmibook\\anaconda31\\lib\\site-packages\\matplotlib\\lines.py\n",
       "\u001b[1;31mType:\u001b[0m      method"
      ]
     },
     "metadata": {},
     "output_type": "display_data"
    }
   ],
   "source": [
    "?line1.set_data"
   ]
  },
  {
   "cell_type": "code",
   "execution_count": 17,
   "id": "1a6d2c9b-2709-439a-b6dc-171c2a155aca",
   "metadata": {},
   "outputs": [
    {
     "name": "stdout",
     "output_type": "stream",
     "text": [
      "Help on function at_frame1 in module __main__:\n",
      "\n",
      "at_frame1(point)\n",
      "    добавляет к объекту line1 точку с координатами (point[0],point[1])\n",
      "\n",
      "    Arguments :\n",
      "\n",
      "    point : массив из двух элементов\n",
      "\n",
      "    Returns : None\n",
      "\n"
     ]
    }
   ],
   "source": [
    "help(at_frame1)"
   ]
  },
  {
   "cell_type": "code",
   "execution_count": 18,
   "id": "5efad657-bb99-49cb-a446-3983e0dc1823",
   "metadata": {},
   "outputs": [
    {
     "data": {
      "text/plain": [
       "\u001b[1;31mSignature:\u001b[0m \u001b[0mat_frame1\u001b[0m\u001b[1;33m(\u001b[0m\u001b[0mpoint\u001b[0m\u001b[1;33m)\u001b[0m\u001b[1;33m\u001b[0m\u001b[1;33m\u001b[0m\u001b[0m\n",
       "\u001b[1;31mDocstring:\u001b[0m\n",
       "добавляет к объекту line1 точку с координатами (point[0],point[1])\n",
       "\n",
       "Arguments :\n",
       "\n",
       "point : массив из двух элементов\n",
       "\n",
       "Returns : None\n",
       "\u001b[1;31mFile:\u001b[0m      c:\\users\\redmibook\\appdata\\local\\temp\\ipykernel_32268\\1118907211.py\n",
       "\u001b[1;31mType:\u001b[0m      function"
      ]
     },
     "metadata": {},
     "output_type": "display_data"
    }
   ],
   "source": [
    "?at_frame1"
   ]
  },
  {
   "cell_type": "code",
   "execution_count": 19,
   "id": "c4c5e165-f3fd-4cb4-96e9-5818a51ee4b8",
   "metadata": {},
   "outputs": [
    {
     "name": "stdout",
     "output_type": "stream",
     "text": [
      "добавляет к объекту line1 точку с координатами (point[0],point[1])\n",
      "\n",
      " Arguments :\n",
      "\n",
      " point : массив из двух элементов\n",
      "\n",
      " Returns : None\n",
      " \n"
     ]
    }
   ],
   "source": [
    "print(at_frame1.__doc__)"
   ]
  },
  {
   "cell_type": "code",
   "execution_count": 20,
   "id": "e5f81aed-e3d5-4029-a99f-fed02a7518e6",
   "metadata": {},
   "outputs": [
    {
     "data": {
      "text/plain": [
       "\u001b[1;31mInit signature:\u001b[0m\n",
       "\u001b[0mFuncAnimation\u001b[0m\u001b[1;33m(\u001b[0m\u001b[1;33m\n",
       "\u001b[0m    \u001b[0mfig\u001b[0m\u001b[1;33m,\u001b[0m\u001b[1;33m\n",
       "\u001b[0m    \u001b[0mfunc\u001b[0m\u001b[1;33m,\u001b[0m\u001b[1;33m\n",
       "\u001b[0m    \u001b[0mframes\u001b[0m\u001b[1;33m=\u001b[0m\u001b[1;32mNone\u001b[0m\u001b[1;33m,\u001b[0m\u001b[1;33m\n",
       "\u001b[0m    \u001b[0minit_func\u001b[0m\u001b[1;33m=\u001b[0m\u001b[1;32mNone\u001b[0m\u001b[1;33m,\u001b[0m\u001b[1;33m\n",
       "\u001b[0m    \u001b[0mfargs\u001b[0m\u001b[1;33m=\u001b[0m\u001b[1;32mNone\u001b[0m\u001b[1;33m,\u001b[0m\u001b[1;33m\n",
       "\u001b[0m    \u001b[0msave_count\u001b[0m\u001b[1;33m=\u001b[0m\u001b[1;32mNone\u001b[0m\u001b[1;33m,\u001b[0m\u001b[1;33m\n",
       "\u001b[0m    \u001b[1;33m*\u001b[0m\u001b[1;33m,\u001b[0m\u001b[1;33m\n",
       "\u001b[0m    \u001b[0mcache_frame_data\u001b[0m\u001b[1;33m=\u001b[0m\u001b[1;32mTrue\u001b[0m\u001b[1;33m,\u001b[0m\u001b[1;33m\n",
       "\u001b[0m    \u001b[1;33m**\u001b[0m\u001b[0mkwargs\u001b[0m\u001b[1;33m,\u001b[0m\u001b[1;33m\n",
       "\u001b[0m\u001b[1;33m)\u001b[0m\u001b[1;33m\u001b[0m\u001b[1;33m\u001b[0m\u001b[0m\n",
       "\u001b[1;31mDocstring:\u001b[0m     \n",
       "`TimedAnimation` subclass that makes an animation by repeatedly calling\n",
       "a function *func*.\n",
       "\n",
       ".. note::\n",
       "\n",
       "    You must store the created Animation in a variable that lives as long\n",
       "    as the animation should run. Otherwise, the Animation object will be\n",
       "    garbage-collected and the animation stops.\n",
       "\n",
       "Parameters\n",
       "----------\n",
       "fig : `~matplotlib.figure.Figure`\n",
       "    The figure object used to get needed events, such as draw or resize.\n",
       "\n",
       "func : callable\n",
       "    The function to call at each frame.  The first argument will\n",
       "    be the next value in *frames*.   Any additional positional\n",
       "    arguments can be supplied using `functools.partial` or via the *fargs*\n",
       "    parameter.\n",
       "\n",
       "    The required signature is::\n",
       "\n",
       "        def func(frame, *fargs) -> iterable_of_artists\n",
       "\n",
       "    It is often more convenient to provide the arguments using\n",
       "    `functools.partial`. In this way it is also possible to pass keyword\n",
       "    arguments. To pass a function with both positional and keyword\n",
       "    arguments, set all arguments as keyword arguments, just leaving the\n",
       "    *frame* argument unset::\n",
       "\n",
       "        def func(frame, art, *, y=None):\n",
       "            ...\n",
       "\n",
       "        ani = FuncAnimation(fig, partial(func, art=ln, y='foo'))\n",
       "\n",
       "    If ``blit == True``, *func* must return an iterable of all artists\n",
       "    that were modified or created. This information is used by the blitting\n",
       "    algorithm to determine which parts of the figure have to be updated.\n",
       "    The return value is unused if ``blit == False`` and may be omitted in\n",
       "    that case.\n",
       "\n",
       "frames : iterable, int, generator function, or None, optional\n",
       "    Source of data to pass *func* and each frame of the animation\n",
       "\n",
       "    - If an iterable, then simply use the values provided.  If the\n",
       "      iterable has a length, it will override the *save_count* kwarg.\n",
       "\n",
       "    - If an integer, then equivalent to passing ``range(frames)``\n",
       "\n",
       "    - If a generator function, then must have the signature::\n",
       "\n",
       "         def gen_function() -> obj\n",
       "\n",
       "    - If *None*, then equivalent to passing ``itertools.count``.\n",
       "\n",
       "    In all of these cases, the values in *frames* is simply passed through\n",
       "    to the user-supplied *func* and thus can be of any type.\n",
       "\n",
       "init_func : callable, optional\n",
       "    A function used to draw a clear frame. If not given, the results of\n",
       "    drawing from the first item in the frames sequence will be used. This\n",
       "    function will be called once before the first frame.\n",
       "\n",
       "    The required signature is::\n",
       "\n",
       "        def init_func() -> iterable_of_artists\n",
       "\n",
       "    If ``blit == True``, *init_func* must return an iterable of artists\n",
       "    to be re-drawn. This information is used by the blitting algorithm to\n",
       "    determine which parts of the figure have to be updated.  The return\n",
       "    value is unused if ``blit == False`` and may be omitted in that case.\n",
       "\n",
       "fargs : tuple or None, optional\n",
       "    Additional arguments to pass to each call to *func*. Note: the use of\n",
       "    `functools.partial` is preferred over *fargs*. See *func* for details.\n",
       "\n",
       "save_count : int, optional\n",
       "    Fallback for the number of values from *frames* to cache. This is\n",
       "    only used if the number of frames cannot be inferred from *frames*,\n",
       "    i.e. when it's an iterator without length or a generator.\n",
       "\n",
       "interval : int, default: 200\n",
       "    Delay between frames in milliseconds.\n",
       "\n",
       "repeat_delay : int, default: 0\n",
       "    The delay in milliseconds between consecutive animation runs, if\n",
       "    *repeat* is True.\n",
       "\n",
       "repeat : bool, default: True\n",
       "    Whether the animation repeats when the sequence of frames is completed.\n",
       "\n",
       "blit : bool, default: False\n",
       "    Whether blitting is used to optimize drawing.  Note: when using\n",
       "    blitting, any animated artists will be drawn according to their zorder;\n",
       "    however, they will be drawn on top of any previous artists, regardless\n",
       "    of their zorder.\n",
       "\n",
       "cache_frame_data : bool, default: True\n",
       "    Whether frame data is cached.  Disabling cache might be helpful when\n",
       "    frames contain large objects.\n",
       "\u001b[1;31mFile:\u001b[0m           c:\\users\\redmibook\\anaconda31\\lib\\site-packages\\matplotlib\\animation.py\n",
       "\u001b[1;31mType:\u001b[0m           type\n",
       "\u001b[1;31mSubclasses:\u001b[0m     "
      ]
     },
     "metadata": {},
     "output_type": "display_data"
    }
   ],
   "source": [
    "?FuncAnimation"
   ]
  },
  {
   "cell_type": "code",
   "execution_count": 21,
   "id": "66c7131b-403b-4a79-b620-1bad12fccd44",
   "metadata": {},
   "outputs": [
    {
     "data": {
      "text/plain": [
       "<matplotlib.animation.FuncAnimation at 0x1885a70e0f0>"
      ]
     },
     "execution_count": 21,
     "metadata": {},
     "output_type": "execute_result"
    },
    {
     "data": {
      "application/vnd.jupyter.widget-view+json": {
       "model_id": "1258f581ba24470c977648cc4bd306dc",
       "version_major": 2,
       "version_minor": 0
      },
      "image/png": "[encoded data removed]",
      "text/html": [
       "\n",
       "            <div style=\"display: inline-block;\">\n",
       "                <div class=\"jupyter-widgets widget-label\" style=\"text-align: center;\">\n",
       "                    Figure\n",
       "                </div>\n",
       "                <img src='data:image/png;base64,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' width=640.0/>\n",
       "            </div>\n",
       "        "
      ],
      "text/plain": [
       "Canvas(toolbar=Toolbar(toolitems=[('Home', 'Reset original view', 'home', 'home'), ('Back', 'Back to previous …"
      ]
     },
     "metadata": {},
     "output_type": "display_data"
    }
   ],
   "source": [
    "fig1 = plt.figure()\n",
    "ax1 = plt.axes()\n",
    "plt.axis([x_min-0.5, x_max+0.5, y_min-0.5, y_max+0.5])\n",
    "line1, = ax1.plot([], [],'b')\n",
    "FuncAnimation(fig1, at_frame1, frames=matrix, repeat=False, interval=15)"
   ]
  },
  {
   "cell_type": "markdown",
   "id": "299d84f7-c8e9-41e8-a52b-4b16768fb67f",
   "metadata": {},
   "source": [
    "## Реализация Задания 3.1b"
   ]
  },
  {
   "cell_type": "code",
   "execution_count": 22,
   "id": "910f36ef-cb8d-4270-80c1-bf80d4b6244d",
   "metadata": {},
   "outputs": [],
   "source": [
    "t_max = 3.0 # конец\n",
    "t_min= 0.5 # начало\n",
    "step=(t_max-t_min)/100"
   ]
  },
  {
   "cell_type": "code",
   "execution_count": 23,
   "id": "52fc71e1-1ecc-44cb-8c37-129a3239e247",
   "metadata": {},
   "outputs": [],
   "source": [
    "t_array = np.arange(t_min,t_max,step) \n",
    "x = np.arctan(np.exp(t_array/2))\n",
    "y = np.sqrt(np.exp(t_array) + 1)"
   ]
  },
  {
   "cell_type": "code",
   "execution_count": 24,
   "id": "cd1622ec-83b4-4f14-9570-5761b44d3790",
   "metadata": {},
   "outputs": [],
   "source": [
    "matrix1 = np.transpose([x, y])"
   ]
  },
  {
   "cell_type": "code",
   "execution_count": 25,
   "id": "4823afd1-00c1-43e2-be14-acbc479e96a8",
   "metadata": {},
   "outputs": [
    {
     "data": {
      "text/plain": [
       "(0.409116062888664, 1.8485904113678955, 1.1274892536358352, 5.037579007532105)"
      ]
     },
     "execution_count": 25,
     "metadata": {},
     "output_type": "execute_result"
    }
   ],
   "source": [
    "y_mn, y_mx = np.min(y), np.max(y)\n",
    "x_mn, x_mx = np.min(x), np.max(x)\n",
    "ax11 = plt.axes()\n",
    "plt.axis([x_mn-0.5, x_mx+0.5, y_mn-0.5, y_mx+0.5])"
   ]
  },
  {
   "cell_type": "code",
   "execution_count": 26,
   "id": "c0d234ab-412a-43ab-84bd-42fdaaeff801",
   "metadata": {},
   "outputs": [],
   "source": [
    "line11, = ax11.plot([],[],'r')"
   ]
  },
  {
   "cell_type": "code",
   "execution_count": 27,
   "id": "5d33db29-4de4-481d-a8a6-04f338f21aca",
   "metadata": {},
   "outputs": [],
   "source": [
    "def at_frame11(point):\n",
    " x_coord = list(line11.get_xdata())\n",
    " y_coord = list(line11.get_ydata())\n",
    "\n",
    " x_coord.append(point[0])\n",
    " y_coord.append(point[1])\n",
    "\n",
    " line11.set_data(x_coord, y_coord)"
   ]
  },
  {
   "cell_type": "code",
   "execution_count": 28,
   "id": "762f6f2f-ad3d-49bd-8b9d-1050d37165ea",
   "metadata": {},
   "outputs": [
    {
     "data": {
      "text/plain": [
       "<matplotlib.animation.FuncAnimation at 0x1885b286510>"
      ]
     },
     "execution_count": 28,
     "metadata": {},
     "output_type": "execute_result"
    },
    {
     "data": {
      "application/vnd.jupyter.widget-view+json": {
       "model_id": "5b51ced9544149398b4a8b902fb5c314",
       "version_major": 2,
       "version_minor": 0
      },
      "image/png": "[encoded data removed]",
      "text/html": [
       "\n",
       "            <div style=\"display: inline-block;\">\n",
       "                <div class=\"jupyter-widgets widget-label\" style=\"text-align: center;\">\n",
       "                    Figure\n",
       "                </div>\n",
       "                <img src='data:image/png;base64,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' width=640.0/>\n",
       "            </div>\n",
       "        "
      ],
      "text/plain": [
       "Canvas(toolbar=Toolbar(toolitems=[('Home', 'Reset original view', 'home', 'home'), ('Back', 'Back to previous …"
      ]
     },
     "metadata": {},
     "output_type": "display_data"
    }
   ],
   "source": [
    "fig11 = plt.figure()\n",
    "ax11 = plt.axes()\n",
    "plt.axis([x_mn-0.5, x_mx+0.5, y_mn-0.5, y_mx+0.5])\n",
    "line11, = ax11.plot([],[],'r')\n",
    "FuncAnimation(fig11, at_frame11, frames=matrix1, repeat=False, interval=30)"
   ]
  },
  {
   "cell_type": "markdown",
   "id": "185aac25-1c64-4ae2-8262-32081a2cd1b9",
   "metadata": {},
   "source": [
    "# Задание 3.2. Движение точки по линии на плоскости"
   ]
  },
  {
   "cell_type": "markdown",
   "id": "82a9fc42-6525-4ac5-beed-c33513c03971",
   "metadata": {},
   "source": [
    "Последовательно выполним следущие действия с использованием функций из модуля `pyplot` :\n",
    "- с помощью функции `figure` создадим графическое окно, в котором в дальнейшем будет отображаться анимация;\n",
    "- с помощью функции `axes` cоздадим графическую область и зададим для нее\n",
    "пределы по осям с помощью функции `axis` ;\n",
    "- с помощью функции plot создадим в графической области графический объект типа `Line2D` синего цвета `'b'` , координаты которого описывают аналитическую функцию;\n",
    "- с помощью функции `plot` создадим в графической области графический объект типа `Line2D` зеленого цвета с маркером в виде кружка `'go'` , координаты которого пока неизвестны"
   ]
  },
  {
   "cell_type": "code",
   "execution_count": 29,
   "id": "2938ce5a-4601-4191-a2d1-c50bc3ff2208",
   "metadata": {},
   "outputs": [
    {
     "data": {
      "application/vnd.jupyter.widget-view+json": {
       "model_id": "e0bf333489dc42b19e6847478fcbbee1",
       "version_major": 2,
       "version_minor": 0
      },
      "image/png": "[encoded data removed]",
      "text/html": [
       "\n",
       "            <div style=\"display: inline-block;\">\n",
       "                <div class=\"jupyter-widgets widget-label\" style=\"text-align: center;\">\n",
       "                    Figure\n",
       "                </div>\n",
       "                <img src='data:image/png;base64,iVBORw0KGgoAAAANSUhEUgAAAoAAAAHgCAYAAAA10dzkAAAAOXRFWHRTb2Z0d2FyZQBNYXRwbG90bGliIHZlcnNpb24zLjkuMiwgaHR0cHM6Ly9tYXRwbG90bGliLm9yZy8hTgPZAAAACXBIWXMAAA9hAAAPYQGoP6dpAABANUlEQVR4nO3deVxVdf7H8fcVBMqEcgMd0Wxzr9Rc0LTNKCuraZGySM213MmptLHUqahfm/tWllnmUq7NaC5TSY1oYWCbmW3jBpmVXMUEwfP74ztAiAsicO6939fz8TiP++V4uH7uA733zfd8F4/jOI4AAABgjUpuFwAAAICKRQAEAACwDAEQAADAMgRAAAAAyxAAAQAALEMABAAAsAwBEAAAwDIEQAAAAMsQAAEAACxDAAQAALAMARAAAMAyBEAAAADLEAABAAAsQwAEAACwDAEQAADAMgRAAAAAyxAAAQAALEMABAAAsAwBEAAAwDIEQAAAAMsQAAEAACxDAAQAALAMARAAAMAyBEAAAADLEAABAAAsQwAEAACwDAEQAADAMgRAAAAAyxAAAQAALEMABAAAsAwBEAAAwDIEQAAAAMsQAAEAACxDAAQAALAMARAAAMAyBEAAAADLEAABAAAsQwAEAACwDAEQAADAMgRAAAAAyxAAAQAALEMABAAAsAwBEAAAwDIEQAAAAMsQAAEAACxDAAQAALAMARAAAMAyBEAAAADLEAABAAAsQwAEAACwDAEQAADAMgRAAAAAyxAAAQAALEMABAAAsAwBEAAAwDIEQAAAAMsEu12APzty5Ih2796tqlWryuPxuF0OAAAoAcdxtH//ftWpU0eVKtnZF0YAPA27d+9WdHS022UAAIBS2LFjh+rWret2Ga4gAJ6GqlWrSjL/gMLDw12uBgAAlITX61V0dHTB57iNCICnIf+2b3h4OAEQAAA/Y/PwLTtvfAMAAFiMAAgAAGAZAiAAAIBlCIAAAACWIQACAABYhgAIAABgGQIgAACAZQiAAAAAliEAAgAAWIYACAAAYBkCIAAAgGUIgAAAAJYhAAIAAFiGAAgAAGAZAiAAAIBlCIAAAACWIQACAABYhgAIAABgGQIgAACAZQiAAAAAliEAAgAAWIYACAAAYBkCIAAAgGUIgAAAAJYhAAIAAFiGAAgAAGAZAiAAAIBlCIAAAACWIQACAABYhgAIAABgGQIgAACAZQiAAAAAliEAAgAAWIYACAAAYBkCIAAAgGUIgAAAAJYhAAIAAFiGAAgAAGAZvwiASUlJ6tq1q+rUqSOPx6OlS5ee8PrFixfr2muvVc2aNRUeHq6YmBitWrWqyDWzZ8+Wx+Mpdhw6dKgcXwkAAID7/CIAZmVl6ZJLLtHkyZNLdH1SUpKuvfZarVixQps2bdJVV12lrl27KjU1tch14eHhSk9PL3KEhYWVx0sAAADwGcFuF1ASXbp0UZcuXUp8/fjx44t8/fTTT2vZsmV699131aJFi4LzHo9HUVFRZVUmAACAX/CLHsDTdeTIEe3fv1/VqlUrcv7AgQOqX7++6tatq5tuuqlYDyEAAEAgsiIAvvDCC8rKylK3bt0KzjVq1EizZ8/W8uXLNW/ePIWFhalDhw7atm3bcZ8nOztbXq+3yAEAAOBv/OIW8OmYN2+exowZo2XLlqlWrVoF59u1a6d27doVfN2hQwe1bNlSkyZN0sSJE4/5XImJiRo7dmy51wwAAFCeAroHcMGCBerdu7cWLlyozp07n/DaSpUqqXXr1ifsARw5cqQyMzMLjh07dpR1yQAAAOUuYHsA582bp/vvv1/z5s3TjTfeeNLrHcdRWlqamjdvftxrQkNDFRoaWpZlAgAAVDi/CIAHDhzQd999V/D1jz/+qLS0NFWrVk316tXTyJEjtWvXLs2ZM0eSCX/33XefJkyYoHbt2ikjI0OSdMYZZygiIkKSNHbsWLVr104XXnihvF6vJk6cqLS0NE2ZMqXiXyAAAEAF8otbwCkpKWrRokXBEi4JCQlq0aKFHn/8cUlSenq6tm/fXnD9jBkzlJubq4EDB6p27doFx9ChQwuu2bdvn/r166fGjRsrNjZWu3btUlJSktq0aVOxLw4AAKCCeRzHcdwuwl95vV5FREQoMzNT4eHhbpcDAABKgM9vP+kBBAAAQNkhAAIAAFiGAAgAAGAZAiAAAIBlCIAAAACWIQACAABYhgAIAABgGQIgAACAZQiAAAAAliEAAgAAWIYACAAAYBkCIAAAgGUIgAAAAJYhAAIAAFiGAAgAAGAZAiAAAIBlCIAAAACWIQACAABYhgAIAABgGQIgAACAZQiAAAAAliEAAgAAWIYACAAAYBkCIAAAgGUIgAAAAJYhAAIAAFiGAAgAAGAZAiAAAIBlCIAAAACWIQACAABYhgAIAABgGQIgAACAZQiAAAAAliEAAgAAWIYACAAAYBm/CIBJSUnq2rWr6tSpI4/Ho6VLl570e9atW6dWrVopLCxM5513nqZPn17smkWLFqlJkyYKDQ1VkyZNtGTJknKoHgAAwLf4RQDMysrSJZdcosmTJ5fo+h9//FE33HCDOnbsqNTUVI0aNUpDhgzRokWLCq5JTk5WXFyc4uPjtXnzZsXHx6tbt27auHFjeb0MAAAAn+BxHMdxu4hT4fF4tGTJEt16663HveaRRx7R8uXLtWXLloJzAwYM0ObNm5WcnCxJiouLk9fr1cqVKwuuuf7663XOOedo3rx5JarF6/UqIiJCmZmZCg8PL90LAgAAFYrPbz/pATxVycnJio2NLXLuuuuuU0pKig4fPnzCa9avX19hdQIAUFpHjrhdAfxZsNsFlIeMjAxFRkYWORcZGanc3Fzt3btXtWvXPu41GRkZx33e7OxsZWdnF3zt9XrLtnCUiYwM6Z13pIULpW++kUJDpbCwwqNePalnT+mGG6SgILerBYCSOXJESk2VVq0yx/r15v0tKqrwqFNH+utfpSuvlDwetyuGLwvIACiZW8V/ln+n+8/nj3XN0ef+LDExUWPHji3DKlFW9u2TFiwwx7p1J/7NOCVFWrxYqltX6tNH6t3btAHAF/3wgzR2rLRypfTLL0X/LDdX+v57c+SbNElq3Vp6+GETBvlFF8cSkAEwKiqqWE/enj17FBwcrOrVq5/wmqN7Bf9s5MiRSkhIKPja6/UqOjq6DCtHaaxcKfXqJf38c+G5tm2luDjpqqukvDzp0CFz/PGH9MEH0uzZ0s6d0pgx0rhx0h13SFOmSDVquPUqAKCo3FxpwgRp9Gjz3iVJVatKV18tXXeddM01UqVK5q5H/vH559Ibb0iffirdead0wQXSiBHmPTIkxN3XA98SkAEwJiZG7777bpFzq1ev1mWXXabKlSsXXLNmzRoNHz68yDXt27c/7vOGhoYqNDS0fIrGKTt40PyGO2WK+frCC02PXrdu0rnnHv/7brpJeuop0ws4Y4aUlGRuF69fbx5jYiqkfAA4rs2bzftZSor5+uqrpccfl9q3l/73MVbggguKfv3UU6YXcPJk6bvvpAEDpNdfN+95UVEVUz/8gOMH9u/f76SmpjqpqamOJOfFF190UlNTnf/+97+O4zjOo48+6sTHxxdc/8MPPzhnnnmmM3z4cOfrr792Zs2a5VSuXNl55513Cq75z3/+4wQFBTnPPPOMs2XLFueZZ55xgoODnQ0bNpS4rszMTEeSk5mZWXYvFiWyaZPjNGrkOJI5hg51nIMHS/9cF11knic42HFefNFxjhwp03IBoEQOH3acUaPMe5HkOGef7TizZpXuPWn/fsd56SXzHJLj1K3rOCkpZV6yX+Lz23H8IgB+8MEHjqRiR48ePRzHcZwePXo4V1xxRZHv+fDDD50WLVo4ISEhzrnnnutMmzat2PO+/fbbTsOGDZ3KlSs7jRo1chYtWnRKdfEPyB2TJxe+Odau7TirVp3+c3q9jhMXVxgob7vNcfbtO/3nBYCSyslxnDvvLHwfuv12x9m9+/Sfd+tWx2nY0DznGWc4zvz5p/+c/o7Pb8fxu3UAfQnrCFW8adOkBx807dtvN7dw/zes87Q5jjR1qjR8uHT4sHTRRWZCCbdMAJS3w4elu++WFi0yY/XmzDHjmMtKZqZ5/vylbx97zIx/rhSQi8GdHJ/fAboOIALT668Xhr9Ro6S33y678CeZJRMGDpT+8x8pOlr69lupSxeJ1X4AlKecHBP28sPfkiVlG/4kKSJCevdd6W9/M18/9ZR5P6ULyF4EQPiFt9+W7r/ftIcOlZ58svzWuGrdWnr/falWLSktTbr1VulPyz8CQJnJyTET15YsMWv6LVtm1igtD0FB0v/9n1kFweMxd1Cef758/i74PgIgfN6//iV1727W9uvTR3rppfJf4PSCC8ytkrPOMsvG3HuvWU4GAMpKTo5ZgmrZssLwd/315f/39ughvfiiaT/8sFk4H/YhAMKnffCBGeuXm2vGr0yfXnGr27dsKS1dapZceOcd0/PI7RIAZeWRR8xt2bAwaflys7ZfRRk6VBo0yLTj46UNGyru74ZvIADCZ+3caRYyzc6WbrnFjAGs6BXtr7lGevNNEzqnTDHjZgDgdC1eLI0fb9pvvSUdtTV9ufN4zN/ftatZJP/mm82OI7AHARA+KS/P3Hb99VepRQtp/vzii59WlG7dzGr8klmRf/Vqd+oAEBi++87szCFJDz1ktmtzQ1CQCZ8tW5ot5m64QfrtN3dqQcUjAMInPfWUWYLlrLPM/r5hYe7WM3iw9MADpt2zpwmmAHCqDh0ydza8XqlDBykx0d16zjpL+uc/zcoHW7dKffsy1MUWBED4nI8+MhufS2ZdvgsvdLeefM8/LzVqJKWnS/368SYJ4NQNHWpWF6hRw907G39Wu7aZgBIcbG5Nv/WW2xWhIhAA4VN++0265x4z4zc+3hy+4swzpblzC98kZ892uyIA/uTNN6WZM834u7lzpbp13a6oUIsW0hNPmPagQdKuXe7Wg/JHAITPcBypd29pxw7T6zdlitsVFdeypfSPf5j2kCHS99+7Ww8A//Ddd1L//qY9enTFT/ooiUcfNeug7ttn3ou5yxHYCIDwGdOnFy67Mn++VLWq2xUd29/+JnXqJB04YCaq5Oa6XREAX+Y4ZgzxwYPSVVdJjz/udkXHFhxstqALC5NWrTK9lQhcBED4hN27zZpYklmpvmVLd+s5kaAg6Y03zNZKGzawNAyAE5s3T1q71iz2PHNmxS9ndSoaNZKeftq0H3qIpWECGQEQPmHECGn/fqltW3Nr1dfVq2cmqEhmW7otW9ytB4Bv+v13afhw0/77380uQ75u6FDpiiukrCyz6gG7IAUmAiBc9/775jfkSpVMqKrkJ/8qu3c3i6fm5prQyngZAEd79FFpzx7Ts/a3v7ldTclUqiS99ppZIuajjwrXQUVg8ZOPWgSqnBxp4EDTfuAB3771eywvvWRu66xdazZzB4B869cXjqObMcO8V/iLBg3MfsFVqkjh4W5Xg/JAAISrXnpJ+uYbqVYtcyvV35x3XuFv9QkJ0h9/uFsPAN9w+HDhrN9evczEMX/Tp495f+7Tx+1KUB4IgHDN9u3SuHGm/dxz0tlnu1pOqY0caVbR/+9/zQQWAHjxRenLL6Xq1f33fcHj8a21ClG2CIBwzfDhZlmEyy/3rQWfT9WZZ0ovvGDazzwj/fSTq+UAcNmOHYW7GT3/vNn1A/A1BEC44r33zG4aQUFm4ofH43ZFp+eOO8z6XocOmaUTANjr8cfNcJDLL5d69HC7GuDYCICocHl5hSFpyBCpeXN36ykLHo80caIJtIsXm0khAOzz1VdmMWXJ9P75+y+3CFwEQFS4uXOlr7+WzjnHd1fEL41mzQpnNA8dytpZgI1GjTJ7md92m1nXFPBVBEBUqJycwg3HH3nEfyd+HM/YsVK1aibgzp3rdjUAKtLHH0vLl5s7Afm7aQC+igCICvXyy2aSRO3a0uDBbldT9s4+u3BLuzFjzFIQAAKf45hFnyXp/vulhg3drQc4GQIgKkxWlvSPf5j26NFm9mwgGjhQioyUfvzRrKYPIPC9+670n/9IZ5xReJcD8GUEQFSYiROln382iyf37u12NeWnShUzDkgygffQIXfrAVC+8vLMeqCSNGyY9Je/uFoOUCIEQFSI338vXAx17FgpJMTdespbv35mAdWdO80WUAAC15w5hRPbHn7Y7WqAkiEAokI895y0b5+ZKXv33W5XU/7CwsxtbskMBs/KcrceAOXj0KHCW76PPRZ4E9sQuAiAKHcZGdKECab91FNmhpwNevUyt7v37JEmT3a7GgDl4bXXzM4fdesWLgMF+AMCIMpdYqLZ8q1dO6lrV7erqTiVKxf2DDz7rJSZ6W49AMrW4cNm+0fJzAAOC3O3HuBUEABRrvbskWbONO1//MO+VfHvuUdq1MiMgXzpJberAVCW3nxT2r7dzPq//363qwFODQEQ5Wr8eDNGpk0b6Zpr3K6m4gUFSePGmfZLL9ELCASKvDxzd0OSRowwy78A/oQAiHKzb580ZYppjxplX+9fvttvlxo3lrxeafp0t6sBUBbeflvats3s/DNggNvVAKeOAIhyM3WqCT1Nm9o19u9olSoV7g7y0kusCwj4uyNHzIQ2yaz7d9ZZrpYDlAoBEOXi4MHCMW8jR5oQZLPu3aXoaLMQ9uuvu10NgNPx7rvSl19K4eGBuaUl7GD5xzLKyyuvSHv3Sg0aSHFxblfjvsqVzTghySyInZvrbj0ASsdxpCefNO1Bg1j3D/6LAIgyl5NjFn6WzK3P4GB36/EVvXtL1atLP/wgvfOO29UAKI01a6SUFLOX+bBhblcDlJ7fBMCpU6eqQYMGCgsLU6tWrfTRRx8d99qePXvK4/EUO5o2bVpwzezZs495zSEGaJ22N980W6BFRUk9erhdje+oUkUaMsS0n3nG9CQA8C/5vX/9+0s1a7pbC3A6/CIALliwQMOGDdNjjz2m1NRUdezYUV26dNH27duPef2ECROUnp5ecOzYsUPVqlXTnXfeWeS68PDwItelp6crjJU8T0tenln0WJIeeoiFUY82cKAJgps3S6tWuV0NgFOxfr300UdmL/P8IR2Av/KLAPjiiy+qd+/e6tOnjxo3bqzx48crOjpa06ZNO+b1ERERioqKKjhSUlL0+++/q1evXkWu83g8Ra6LioqqiJcT0BYvlr791myK3r+/29X4nurVpX79TDt/BwEA/uGFF8xjfLxUp467tQCny+cDYE5OjjZt2qTY2Ngi52NjY7V+/foSPcesWbPUuXNn1a9fv8j5AwcOqH79+qpbt65uuukmpaamnvB5srOz5fV6ixwo5DhmgoNkZsZVrepuPb4qIcFMClm3TkpOdrsaACXx/ffSkiWmPXy4u7UAZcHnA+DevXuVl5enyMjIIucjIyOVkZFx0u9PT0/XypUr1adPnyLnGzVqpNmzZ2v58uWaN2+ewsLC1KFDB23btu24z5WYmKiIiIiCIzo6unQvKkD95z9mcHRoKJuin0jdutK995o2vYCAf5gwwfySe/31Zm1TwN/5fADM5zlqGwnHcYqdO5bZs2fr7LPP1q233lrkfLt27XTvvffqkksuUceOHbVw4UJddNFFmjRp0nGfa+TIkcrMzCw4duzYUarXEqjy1/2Lj5dq1XK3Fl/38MPm8d13zW4CAHzX779Lr75q2g895G4tQFnx+QBYo0YNBQUFFevt27NnT7FewaM5jqNXX31V8fHxCgkJOeG1lSpVUuvWrU/YAxgaGqrw8PAiB4wffii8PcLSCCfXqJF0ww2mR2HiRLerAXAiM2dKWVnSxRfbuac5ApPPB8CQkBC1atVKa9asKXJ+zZo1at++/Qm/d926dfruu+/Uu3fvk/49juMoLS1NtWvXPq16bTVxogkz113H7ZGSyh9H9NprZt9kAL4nJ6fwl7SEBHv3NEfg8fkAKEkJCQl65ZVX9Oqrr2rLli0aPny4tm/frgH/24F75MiRuu+++4p936xZs9S2bVs1a9as2J+NHTtWq1at0g8//KC0tDT17t1baWlpBc+JksvMlGbNMm0GR5fcNddIzZqZnoVXXnG7GgDHsmCBtHu3VLu2dPfdblcDlB2/2KMhLi5Ov/76q8aNG6f09HQ1a9ZMK1asKJjVm56eXmxNwMzMTC1atEgTJkw45nPu27dP/fr1U0ZGhiIiItSiRQslJSWpTZs25f56As0rr0gHDkhNmkhHTdbGCXg85nZ5nz7SpEmmza4pgO9wnMKlXwYNMuv/AYHC4zjsR1BaXq9XERERyszMtHY8YG6udP750vbt0ssvmzCDkvvjD6lePbNv8sKF0lFrlQNw0fvvm576M8+UduyQqlVzuyKUFT6//eQWMHzX4sUm/NWsKd1zj9vV+J8zzpAeeMC0x493tRQAR8nv/evVi/CHwEMAxGl58UXz+MADJszg1D34oFkYev166ZNP3K4GgCRt3SqtWGGGagwd6nY1QNkjAKLUkpOljRvNuJgHH3S7Gv8VFVU4uJxeQMA3TJ5sHm+6SbrwQndrAcoDARCllh9W7rlHOsmSjDiJ/LUT335b2rnT1VIA63m90uzZpj14sKulAOWGAIhS2bXLjP+TpCFD3K0lELRoIV1xhZlUM2WK29UAdnv9dbOyQaNGUufOblcDlA8CIEplxgwTVi6/XLr0UrerCQz5ayjOnGlmBwOoeEeOmGWZJNP7x8LPCFQEQJyy7GwTACVuj5Slm26S6teXfvtNmj/f7WoAO61ebfbnDg+XjrG/ABAwCIA4Ze+8I+3ZI9WpI/31r25XEziCggon00yaZBahBVCx8nv/evWSzjrL3VqA8kQAxCnLnx03YIBZvgRlp3dvKSxMSk2VNmxwuxrALt99J61cadoDB7pbC1DeCIA4JSkpJphUriz16+d2NYGnevXCJWHygzaAijFliul579KFpV8Q+AiAOCX5t0e6dWPpl/IyaJB5fPttKSPD3VoAWxw4IL36qmkzthk2IACixH75pXByAm+Q5adlS6l9e+nwYbO/MoDyN2eOWf/vwgul665zuxqg/BEAUWIvvyzl5EiXXSa1aeN2NYEtvxdw+nQTBAGUH8cpHHIxaJBUiU9GWIB/5iiR3Fxp2jTTZm2s8nf77eYW++7d0tKlblcDBLYPPpC2bDGzfnv2dLsaoGIQAFEiy5aZLcpq1DDj/1C+QkKk/v1Nm8kgQPmaOtU8xseb9f8AGxAAUSL5b5B9+5plSlD++veXgoOlpCTp88/drgYITDt3Fvay56/DCdiAAIiT2rJFev99My5mwAC3q7FHnTrSbbeZNr2AQPl4+WUpL0/q1Elq1sztaoCKQwDESeWP/evaVapXz91abJO/GO3cudK+fa6WAgScw4fN3tsSvX+wDwEQJ3TggPT666bNG2TF69jR9EocPGiWqQBQdpYsMWttRkWxrSXsQwDECb31llkb64ILpM6d3a7GPh5PYfCeOpX9gYGy9OexzSEh7tYCVDQCII7LcczWSJL0wAOsjeWWe+81y1Ns3WqWqwBw+r78Ulq3TgoKYltL2ImPdBxXcrKZfRoWxtpYbqpaVbrvPtPO77EAcHryxzbfcotUt667tQBuIADiuPLDRvfuUrVq7tZiuwceMI9Ll0q7drlaCuD39u8vHFPL2GbYigCIY9qzR3r7bdPmDdJ9zZqZZSry8tgfGDhdb7xhJrg1bChdfbXb1QDuIADimGbNMvv+tmkjtWrldjWQCoP4zJnsDwyUluMU3t148EG2tYS9CIAoJi9Pmj7dtOn98x1//avZHzg93WzNB+DUffSR9NVX0plnFo6tBWxEAEQxK1ZI27ebcX/s++s7QkLMchUSk0GA0sr/v3PvvdLZZ7taCuAqAiCKyX+DvP9+6Ywz3K0FRfXrZ5bj+eADs0UfgJLLyJAWLTLt/IlVgK0IgCji+++l994z42LY99f3REebLfkkegGBU/XKK1JurhQTI116qdvVAO4iAKKI/LF/118vnX++u7Xg2PLHZc6ZY2YyAji53FxpxgzTZmwzQADEn/zxh/Tqq6bNG6Tv6txZuvBCs0Xf3LluVwP4h3/+U9q5U6pRQ7rjDrerAdxHAESBhQul336T6teXunRxuxocT6VKheOX2B8YKJn8IRO9e5vdjQDbEQBRIH/f3wEDzP6Y8F09e5oJOp9/Lq1f73Y1gG/79ltpzRoztrl/f7erAXwDARCSpE8/NUdIiJn9C992zjnS3XebNpNBgBPLH9t8ww1Sgwbu1gL4CgIgJBVujH7nnVKtWu7WgpIZONA8vv229PPP7tYC+KqDB6XXXjNtxjYDhfwmAE6dOlUNGjRQWFiYWrVqpY8++ui413744YfyeDzFjm+++abIdYsWLVKTJk0UGhqqJk2aaMmSJeX9MnzSb79J8+aZNm+Q/qNlS6ltW7Mt3KxZblcD+Kb586V9+0zP33XXuV0N4Dv8IgAuWLBAw4YN02OPPabU1FR17NhRXbp00fbt20/4fVu3blV6enrBceGFFxb8WXJysuLi4hQfH6/NmzcrPj5e3bp108aNG8v75fic2bOlQ4ekSy4x62PBf+QH9unTzRZ+AAr9ed9fxjYDRXkcx/fnELZt21YtW7bUtPz7lJIaN26sW2+9VYmJicWu//DDD3XVVVfp999/19nH2esnLi5OXq9XK1euLDh3/fXX65xzztG8/O6wk/B6vYqIiFBmZqbCw8NP7UX5iCNHpIYNpe++M2tk9evndkU4FYcOSXXrSr/+avYHvvlmtysCfMfGjVK7dlJoqLRjh1SzptsVwVcEwuf36fL5HsCcnBxt2rRJsbGxRc7HxsZq/UmmP7Zo0UK1a9fWNddcow8++KDInyUnJxd7zuuuu+6Ez5mdnS2v11vk8Hdr15rwFx4ude/udjU4VWFhZlkLickgwNEmTzaPcXGEP+BoPh8A9+7dq7y8PEVGRhY5HxkZqYyMjGN+T+3atTVz5kwtWrRIixcvVsOGDXXNNdcoKSmp4JqMjIxTek5JSkxMVERERMERHR19Gq/MN6xebR579JDOOsvdWlA6/fub5S1WrZK2bXO7GsA37Nlj1jaVpEGD3K0F8EXBbhdQUh6Pp8jXjuMUO5evYcOGatiwYcHXMTEx2rFjh55//nl16tSpVM8pSSNHjlRCQkLB116v1+9D4PPPm9+Omfnrv847zyzcvWKFmc394otuVwS475VXpJwcqXVrcwAoyud7AGvUqKGgoKBiPXN79uwp1oN3Iu3atdO2P3WPREVFnfJzhoaGKjw8vMgRCFq3Nrt/wH/lTwZ57TUpK8vdWgC35eYWrv1H7x9wbD4fAENCQtSqVSutWbOmyPk1a9aoffv2JX6e1NRU1a5du+DrmJiYYs+5evXqU3pOwFd06WJ6AvftY39g4N13zaSPGjWkbt3crgbwTX5xCzghIUHx8fG67LLLFBMTo5kzZ2r79u0aMGCAJHNrdteuXZozZ44kafz48Tr33HPVtGlT5eTk6M0339SiRYu0aNGiguccOnSoOnXqpGeffVa33HKLli1bprVr1+rjjz925TUCp6NSJbMw9EMPmYHvffuacYGAjfK3tezTh31/gePxiwAYFxenX3/9VePGjVN6erqaNWumFStWqP7/7lump6cXWRMwJydHI0aM0K5du3TGGWeoadOm+te//qUbbrih4Jr27dtr/vz5+vvf/67Ro0fr/PPP14IFC9S2bdsKf31AWejVSxo9WvriCykpSbriCrcrAireli3Sv/9tfin6Xx8BgGPwi3UAfRXrCMHX9O8vzZwp3X679M47blcDVLzBg00v+C23SEuXul0NfBWf334wBhBAyeUPeF+61IyBAmyyf7/0+uumzeQP4MQIgEAAad7c3PrNyyucBQnY4o03TAhs2FC65hq3qwF8GwEQCDCDB5vHmTPNVnGADRyncPLHwIFMggJOhgAIBJhbbjH7A+/dW7gTAhDo1q6Vvv7a7Gh0331uVwP4PgIgEGCCg6UHHjDtSZNMzwgQ6CZMMI+9ekkREe7WAvgDAiAQgPr2lUJCpJQU6ZNP3K4GKF/ffiv961/mtm/+EAgAJ0YABAJQzZrSXXeZ9sSJ7tYClLdJk8zjjTdKF17obi2AvyAAAgFqyBDzuHChtGuXu7UA5WXfPrMHtiQNHepqKYBfIQACAapVK6ljRyk3t3B2JBBoXn1VysqSmjZl6RfgVBAAgQA2fLh5nDFDOnjQ3VqAspaXV3j7d+hQln4BTgUBEAhgN98snXee9Ntv0pw5blcDlK1335V++kmqVk265x63qwH8CwEQCGBBQYVjAcePl44ccbUcoEyNH28e+/eXzjzT1VIAv0MABALc/fdL4eHS1q3Se++5XQ1QNtLSpHXrzC85Dz7odjWA/yEAAgGualWpTx/Tfukld2sBykr+ws933ml2vgFwagiAgAUGD5YqVTLbZX3xhdvVAKcnPV166y3TZukXoHQIgIAFzj1Xuu02084fNwX4q4kTpZwcqUMHqV07t6sB/BMBELBEQoJ5nDtX2rPH3VqA0tq/X5o2zbT/9jd3awH8GQEQsERMjNS2rZSdLU2d6nY1QOm88oqUmSk1bCh17ep2NYD/IgACFsnvBZw82eyeAPiTw4cLJzI99JAZ1wqgdPjvA1jkttuk88+Xfv1VmjXL7WqAU7NggbRjhxQZKcXHu10N4N8IgIBFgoMLx009/7zpUQH8geNIzz1n2kOGSGFh7tYD+DsCIGCZHj1MD8qOHdK8eW5XA5TM6tXS559LVapIDzzgdjWA/yMAApYJC5OGDzftZ59lezj4h/zevz59pHPOcbcWIBAQAAELDRhgtof7+mvpn/90uxrgxD77TPr3v822b/m/vAA4PQRAwEIREYX7pyYmmvFVgK/K7/2Li5Pq13e3FiBQEAABSw0dKoWGShs2SB995HY1wLF9+620cKFps/AzUHYIgICloqKkXr1M+5ln3K0FOJ6nnzbjVLt2lS691O1qgMBBAAQsNmKEWUx35UozwxLwJd9/L735pmmPHu1uLUCgIQACFjv/fKlbN9N+6il3awGOlpgo5eVJXbpIrVu7XQ0QWAiAgOVGjTKPb78tffGFu7UA+X76SXr9ddOm9w8oewRAwHLNm0t33mlmAo8d63Y1gPHMM1JurnTttVJMjNvVAIGHAAhATzwheTzSokVSWprb1cB2O3ZIr75q2o8/7m4tQKAiAAJQ06ZmjTWJXkC479lnzT7VV14pXX6529UAgYkACECS6QWsVElaulTatMntamCrXbukl182bXr/gPJDAAQgSWrUSOre3bTHjHG1FFjs//5PyskxPX9XXul2NUDg8psAOHXqVDVo0EBhYWFq1aqVPjrB1gWLFy/Wtddeq5o1ayo8PFwxMTFatWpVkWtmz54tj8dT7Dh06FB5vxTAZ40ebXoB//lP6ZNP3K4Gtvnvf6Xp00378cfNuFQA5cMvAuCCBQs0bNgwPfbYY0pNTVXHjh3VpUsXbd++/ZjXJyUl6dprr9WKFSu0adMmXXXVVeratatSU1OLXBceHq709PQiR1hYWEW8JMAnXXSRFB9v2vQCoqI9/rjp/bv6aqlzZ7erAQKbx3F8fxv4tm3bqmXLlpo2bVrBucaNG+vWW29VYmJiiZ6jadOmiouL0+P/G1Qye/ZsDRs2TPv27St1XV6vVxEREcrMzFR4eHipnwfwJd9/LzVsaBbgXb+eJThQMT7/3Gz15jim95mFn1Ge+Pz2gx7AnJwcbdq0SbGxsUXOx8bGav369SV6jiNHjmj//v2qVq1akfMHDhxQ/fr1VbduXd10003FeggBG51/vtSjh2k/+qj5QAbK28iR5t9at26EP6Ai+HwA3Lt3r/Ly8hQZGVnkfGRkpDIyMkr0HC+88IKysrLULX/PK0mNGjXS7NmztXz5cs2bN09hYWHq0KGDtm3bdtznyc7OltfrLXIAgWjMGCksTEpKkpYtc7saBLoPP5RWrJCCg6Unn3S7GsAOPh8A83mOGg3sOE6xc8cyb948jRkzRgsWLFCtWrUKzrdr10733nuvLrnkEnXs2FELFy7URRddpEmTJh33uRITExUREVFwREdHl/4FAT4sOlpKSDDthx8247KA8uA40iOPmHa/ftKFF7pbD2ALnw+ANWrUUFBQULHevj179hTrFTzaggUL1Lt3by1cuFCdTzKiuFKlSmrduvUJewBHjhypzMzMgmPHjh0lfyGAn3n0UalWLWnbtsKZmUBZW7zYjPmrUoV1/4CK5PMBMCQkRK1atdKaNWuKnF+zZo3at29/3O+bN2+eevbsqbfeeks33njjSf8ex3GUlpam2rVrH/ea0NBQhYeHFzmAQFW1qjRunGmPHSudxnwp4JgOH5ZGjTLtESOkk/xOD6AM+XwAlKSEhAS98sorevXVV7VlyxYNHz5c27dv14ABAySZnrn77ruv4Pp58+bpvvvu0wsvvKB27dopIyNDGRkZyszMLLhm7NixWrVqlX744QelpaWpd+/eSktLK3hOAFLv3lKTJtJvv0lPPeV2NQg0s2ZJ334r1awpPfSQ29UAdvGLABgXF6fx48dr3LhxuvTSS5WUlKQVK1aofv36kqT09PQiawLOmDFDubm5GjhwoGrXrl1wDB06tOCaffv2qV+/fmrcuLFiY2O1a9cuJSUlqU2bNhX++gBfFRwsPfecaU+cKP34o7v1IHD8/rtZeFwyj1WrulsPYBu/WAfQV7GOEGzgOFJsrLR2rVmiY8ECtytCIBg4UJo61fQwp6VJlSu7XRFswue3n/QAAnCPxyM9/7x5XLjQLA4NnI5Nm6T8df2nTCH8AW4gAAI4qUsukXr1Mu0HHzSD94HSOHLE9P45jtS9u3TllW5XBNiJAAigRJ55RqpWTdq8WZowwe1q4K9ee03auNGM+csfXwqg4hEAAZRIzZqFH9hPPCH99JOr5cAP/fpr4aLPY8dKdeq4Ww9gMwIggBLr1Uu64grp4EFzK5gpZDgVjz1mQmDz5tLgwW5XA9iNAAigxDweacYMKSREWrnSTAoBSuLTT6WZM017yhSzxBAA9xAAAZyShg0Ld28YOtSs5wacSE6O1Lev6TGOj5c6dnS7IgAEQACn7NFHpUaNpJ9/Nm3gRMaONZOHqldn4gfgKwiAAE5ZaKi5FSyZ23pJSe7WA9+VnGxmkEvm3wz7/QK+gQAIoFQ6dTJ7BUvmtt6+fa6WAx+UlSXdd59Z+y8+Xrr9drcrApCPAAig1F58UTrvPGn7dql/f2YFo6iHH5a++06qW9fsJQ3AdxAAAZRaeLj01ltmRufChdLs2W5XBF+xapXZ61cyiz+ffbar5QA4CgEQwGlp21YaN860Bw+Wvv3W3Xrgvt9/l+6/37QHD5Y6d3a3HgDFEQABnLaHH5auusqM+br7bik72+2K4BbHkfr0kXbvli66qHACCADfQgAEcNqCgqQ33jDLfHz2mfT3v7tdEdySmCgtXixVrmz+TZx5ptsVATgWAiCAMvGXv0izZpn2889L//qXu/Wg4q1YURj+p0yR2rRxtx4Ax0cABFBmbrlFGjjQtO+6S/r8c3frQcXZtk3q3t3cAh4wwOz8AcB3EQABlKkXX5Suvlo6cEC66SYpPd3tilDe9u834T8zU+rQQZowwe2KAJwMARBAmQoJkd55x+wZvGOHdPPN0sGDbleF8nLkiFnsecsWqU4d87MPCXG7KgAnQwAEUObOOUf65z/NpJCUlMLdIBB4Ro+Wli41oW/xYikqyu2KAJQEARBAubjgAmnJEhMMFi2SHnvM7YpQ1hITpaefNu3p082akAD8AwEQQLnp2LFwZvAzz0gvveRuPSg7EyZIo0aZ9rPPSr16uVsPgFNDAARQru69VxozxrQTEkxYgH+bOVMaNsy0n3jCLAQOwL8QAAGUu8cfN0FBkh591Gwd5zju1oTSeeMNs8yLZIJf/s8VgH8hAAIodx6P6QV86inz9RNPmAWDCYH+5Y03pJ49zc9t0CBzW9/jcbsqAKVBAARQYUaNkl54wbSfflr6298Igf7gyBHTi5s/m/v++80YQMIf4L8IgAAqVEKCNGmSab/wgtStm1lIGL7pjz+ku++W/vEP8/Ujj0gvvyxV4tMD8Gv8FwZQ4QYNMrODK1c2Cwe3aSN9843bVeFoGRnSlVdKCxean9Wrr5rbvoQ/wP/x3xiAK+6/X1q3zuwe8c03UuvWZr1A+IZPPjHB/JNPpGrVpDVrWOoFCCQEQACuiYmRPvvM9DIdOCDdcYcZF5id7XZl9jp0yMzUjokxW/k1bCht3ChdcYXblQEoSwRAAK6KjDS9SyNGmK+ff166+GJp7Vp367LRhg1SixZmrcYjR6Tu3aXkZLOrC4DAQgAE4LrgYOm558wt4MhI6dtvpWuvle66S9q1y+3qAl9WllnTr0MHczs+Ksrs7zt3rtnXGUDgIQAC8Bm33WYCyODBZqLBggVSo0ZmtvDBg25XF3iyskzwbtDAPB45IsXHS199Jd1yi9vVAShPBEAAPuXss6WJE6WUFKltWzM2cMQIqV49s4D0nj1uV+j/srLMrfYGDUzP3y+/SOefLy1fLs2ZYyZ9AAhsBEAAPqlFC2n9eumVV6Rzz5V+/dVsIVevntS/v7Rli9sV+p8vvjCB77zzzGSbX34x7ddeMz2vXbu6XSGAiuI3AXDq1Klq0KCBwsLC1KpVK3300UcnvH7dunVq1aqVwsLCdN5552n69OnFrlm0aJGaNGmi0NBQNWnSREuWLCmv8gGUQqVKUu/e0rZt5nZw69ZmhvDMmVKTJtKll5pQ+OWX7ChyPLt3m96+Sy81k2uee870ov45+PXsacZhArCHXwTABQsWaNiwYXrssceUmpqqjh07qkuXLtq+ffsxr//xxx91ww03qGPHjkpNTdWoUaM0ZMgQLfrTImPJycmKi4tTfHy8Nm/erPj4eHXr1k0bN26sqJcFoISCg82OIRs3SklJ0s03S0FB0ubN5rZw8+ZmuZIRI8xEkp073a7YPXv3SosXS0OGSJdcIv3lL6a3b/Nms5jzX/9q/jw/+FWu7HbFANzgcRzf/725bdu2atmypaZNm1ZwrnHjxrr11luVmJhY7PpHHnlEy5cv15Y/3SMaMGCANm/erOTkZElSXFycvF6vVq5cWXDN9ddfr3POOUfz5s0rUV1er1cRERHKzMxUeHh4aV8egFL49Vfp3XdNmFm9uvjagXXqmDGELVua8W3nnWeOGjUCYw/brCzTM/rNN+Z2+DffmJ7Qr78ufm379mZyR7dujO8DJD6/JcnnO/1zcnK0adMmPfroo0XOx8bGav369cf8nuTkZMXGxhY5d91112nWrFk6fPiwKleurOTkZA0fPrzYNePHjy/T+gGUj+rVTQ9Wz55mL+EVK6T33ze9hF98YW59Lllijj876ywpOtp8f7Vq5rF6dSkiQgoLk844o/CoXNn0NAYHm8egoMJt0PJDpMdTskDpOMWPI0ekvDzp8GEpN9c8Hj5sZjxnZZkJMFlZ5vX98ov088+Fx4n2T27a1CzcfOWVUqdOZmkdAPgznw+Ae/fuVV5eniKPegeLjIxURkbGMb8nIyPjmNfn5uZq7969ql279nGvOd5zSlJ2dray/9TN4PV6T/XlACgHVatKcXHmkExo2rTJhMGvv5Z++MEcO3eaUBUoE0iqV5caNzZL5eQfbdpINWu6XRkAX+fzATCf56hfsR3HKXbuZNcfff5UnzMxMVFjx44tcc0A3FGliun56tSp6PlDh6SffjK9g7/9Zm4j5z/u3y/98UfRIyfH9NDlH7m5hb13UtH20Y71VpLfW+jxmJ5Ej8f0KlaubI7gYPN4xhmmp7JKlcKjZk3TkxcZaRZqjow0vZYAUBo+HwBr1KihoKCgYj1ze/bsKdaDly8qKuqY1wcHB6t69eonvOZ4zylJI0eOVEJCQsHXXq9X0dHRp/R6ALgnLKywpwwAbObzs4BDQkLUqlUrrVmzpsj5NWvWqH379sf8npiYmGLXr169Wpdddpkq/2/K2/GuOd5zSlJoaKjCw8OLHAAAAP7G53sAJSkhIUHx8fG67LLLFBMTo5kzZ2r79u0aMGCAJNMzt2vXLs2ZM0eSmfE7efJkJSQkqG/fvkpOTtasWbOKzO4dOnSoOnXqpGeffVa33HKLli1bprVr1+rjjz925TUCAABUFL8IgHFxcfr11181btw4paenq1mzZlqxYoXq168vSUpPTy+yJmCDBg20YsUKDR8+XFOmTFGdOnU0ceJE3X777QXXtG/fXvPnz9ff//53jR49Wueff74WLFigtm3bVvjrAwAAqEh+sQ6gr2IdIQAA/A+f334wBhAAAABliwAIAABgGQIgAACAZQiAAAAAliEAAgAAWIYACAAAYBkCIAAAgGUIgAAAAJYhAAIAAFiGAAgAAGAZAiAAAIBlCIAAAACWIQACAABYhgAIAABgGQIgAACAZQiAAAAAliEAAgAAWIYACAAAYBkCIAAAgGUIgAAAAJYhAAIAAFiGAAgAAGAZAiAAAIBlCIAAAACWIQACAABYhgAIAABgGQIgAACAZQiAAAAAliEAAgAAWIYACAAAYBkCIAAAgGUIgAAAAJYhAAIAAFiGAAgAAGAZAiAAAIBlfD4A/v7774qPj1dERIQiIiIUHx+vffv2Hff6w4cP65FHHlHz5s1VpUoV1alTR/fdd592795d5Lorr7xSHo+nyHHXXXeV86sBAABwn88HwO7duystLU3vvfee3nvvPaWlpSk+Pv641x88eFCfffaZRo8erc8++0yLFy/Wt99+q5tvvrnYtX379lV6enrBMWPGjPJ8KQAAAD4h2O0CTmTLli167733tGHDBrVt21aS9PLLLysmJkZbt25Vw4YNi31PRESE1qxZU+TcpEmT1KZNG23fvl316tUrOH/mmWcqKiqqfF8EAACAj/HpHsDk5GRFREQUhD9JateunSIiIrR+/foSP09mZqY8Ho/OPvvsIufnzp2rGjVqqGnTphoxYoT2799fVqUDAAD4LJ/uAczIyFCtWrWKna9Vq5YyMjJK9ByHDh3So48+qu7duys8PLzg/D333KMGDRooKipKX375pUaOHKnNmzcX6z38s+zsbGVnZxd87fV6T+HVAAAA+AZXegDHjBlTbALG0UdKSookyePxFPt+x3GOef5ohw8f1l133aUjR45o6tSpRf6sb9++6ty5s5o1a6a77rpL77zzjtauXavPPvvsuM+XmJhYMBklIiJC0dHRp/jKAQAA3OdKD+CgQYNOOuP23HPP1eeff66ff/652J/98ssvioyMPOH3Hz58WN26ddOPP/6o999/v0jv37G0bNlSlStX1rZt29SyZctjXjNy5EglJCQUfO31egmBAADA77gSAGvUqKEaNWqc9LqYmBhlZmbqk08+UZs2bSRJGzduVGZmptq3b3/c78sPf9u2bdMHH3yg6tWrn/Tv+uqrr3T48GHVrl37uNeEhoYqNDT0pM8FAADgy3x6Ekjjxo11/fXXq2/fvtqwYYM2bNigvn376qabbioyA7hRo0ZasmSJJCk3N1d33HGHUlJSNHfuXOXl5SkjI0MZGRnKycmRJH3//fcaN26cUlJS9NNPP2nFihW688471aJFC3Xo0MGV1woAAFBRfDoASmambvPmzRUbG6vY2FhdfPHFeuONN4pcs3XrVmVmZkqSdu7cqeXLl2vnzp269NJLVbt27YIjf+ZwSEiI/v3vf+u6665Tw4YNNWTIEMXGxmrt2rUKCgqq8NcIAABQkTyO4zhuF+GvvF6vIiIilJmZedIxhgAAwDfw+e0HPYAAAAAoWwRAAAAAyxAAAQAALEMABAAAsAwBEAAAwDIEQAAAAMsQAAEAACxDAAQAALAMARAAAMAyBEAAAADLEAABAAAsQwAEAACwDAEQAADAMgRAAAAAyxAAAQAALEMABAAAsAwBEAAAwDIEQAAAAMsQAAEAACxDAAQAALAMARAAAMAyBEAAAADLEAABAAAsQwAEAACwDAEQAADAMgRAAAAAyxAAAQAALEMABAAAsAwBEAAAwDIEQAAAAMsQAAEAACxDAAQAALAMARAAAMAyBEAAAADLEAABAAAsQwAEAACwDAEQAADAMgRAAAAAyxAAAQAALBPsdgH+zHEcSZLX63W5EgAAUFL5n9v5n+M2IgCehv3790uSoqOjXa4EAACcqv379ysiIsLtMlzhcWyOv6fpyJEj2r17t6pWrSqPx+N2OaXm9XoVHR2tHTt2KDw83O1yrMbPwnfws/Ad/Cx8R6D8LBzH0f79+1WnTh1VqmTnaDh6AE9DpUqVVLduXbfLKDPh4eF+/R86kPCz8B38LHwHPwvfEQg/C1t7/vLZGXsBAAAsRgAEAACwDAEQCg0N1RNPPKHQ0FC3S7EePwvfwc/Cd/Cz8B38LAIHk0AAAAAsQw8gAACAZQiAAAAAliEAAgAAWIYACAAAYBkCoMWSkpLUtWtX1alTRx6PR0uXLnW7JCslJiaqdevWqlq1qmrVqqVbb71VW7dudbssa02bNk0XX3xxwUK3MTExWrlypdtlWS8xMVEej0fDhg1zuxQrjRkzRh6Pp8gRFRXldlk4DQRAi2VlZemSSy7R5MmT3S7FauvWrdPAgQO1YcMGrVmzRrm5uYqNjVVWVpbbpVmpbt26euaZZ5SSkqKUlBRdffXVuuWWW/TVV1+5XZq1Pv30U82cOVMXX3yx26VYrWnTpkpPTy84vvjiC7dLwmlgKziLdenSRV26dHG7DOu99957Rb5+7bXXVKtWLW3atEmdOnVyqSp7de3atcjXTz31lKZNm6YNGzaoadOmLlVlrwMHDuiee+7Ryy+/rCeffNLtcqwWHBxMr18AoQcQ8DGZmZmSpGrVqrlcCfLy8jR//nxlZWUpJibG7XKsNHDgQN14443q3Lmz26VYb9u2bapTp44aNGigu+66Sz/88IPbJeE00AMI+BDHcZSQkKDLL79czZo1c7sca33xxReKiYnRoUOHdNZZZ2nJkiVq0qSJ22VZZ/78+frss8/06aeful2K9dq2bas5c+booosu0s8//6wnn3xS7du311dffaXq1au7XR5KgQAI+JBBgwbp888/18cff+x2KVZr2LCh0tLStG/fPi1atEg9evTQunXrCIEVaMeOHRo6dKhWr16tsLAwt8ux3p+HCzVv3lwxMTE6//zz9frrryshIcHFylBaBEDARwwePFjLly9XUlKS6tat63Y5VgsJCdEFF1wgSbrsssv06aefasKECZoxY4bLldlj06ZN2rNnj1q1alVwLi8vT0lJSZo8ebKys7MVFBTkYoV2q1Klipo3b65t27a5XQpKiQAIuMxxHA0ePFhLlizRhx9+qAYNGrhdEo7iOI6ys7PdLsMq11xzTbFZpr169VKjRo30yCOPEP5clp2drS1btqhjx45ul4JSIgBa7MCBA/ruu+8Kvv7xxx+VlpamatWqqV69ei5WZpeBAwfqrbfe0rJly1S1alVlZGRIkiIiInTGGWe4XJ19Ro0apS5duig6Olr79+/X/Pnz9eGHHxabrY3yVbVq1WLjYKtUqaLq1aszPtYFI0aMUNeuXVWvXj3t2bNHTz75pLxer3r06OF2aSglAqDFUlJSdNVVVxV8nT+Oo0ePHpo9e7ZLVdln2rRpkqQrr7yyyPnXXntNPXv2rPiCLPfzzz8rPj5e6enpioiI0MUXX6z33ntP1157rdulAa7ZuXOn7r77bu3du1c1a9ZUu3bttGHDBtWvX9/t0lBKHsdxHLeLAAAAQMVhHUAAAADLEAABAAAsQwAEAACwDAEQAADAMgRAAAAAyxAAAQAALEMABAAAsAwBEAAAwDIEQAAAAMsQAAEAACxDAAQAALAMARAAAMAyBEAAAADLEAABAAAsQwAEAACwDAEQAADAMgRAAAAAyxAAAQAALEMABAAAsAwBEAAAwDIEQAAAAMsQAAEAACxDAAQAALAMARAAAMAyBEAAAADLEAABAAAsQwAEAACwDAEQAADAMgRAAAAAyxAAAQAALEMABAAAsMz/Ax0238EU4DNcAAAAAElFTkSuQmCC' width=640.0/>\n",
       "            </div>\n",
       "        "
      ],
      "text/plain": [
       "Canvas(toolbar=Toolbar(toolitems=[('Home', 'Reset original view', 'home', 'home'), ('Back', 'Back to previous …"
      ]
     },
     "metadata": {},
     "output_type": "display_data"
    }
   ],
   "source": [
    "fig2 = plt.figure()\n",
    "\n",
    "ax2 = plt.axes()\n",
    "plt.axis([x_min-0.5, x_max+0.5, y_min-0.5, y_max+0.5])\n",
    "\n",
    "line1, = ax2.plot(x_array, y_array,'b') # объект для графика функции\n",
    "line2, = ax2.plot([], [],'go') # объект для точки"
   ]
  },
  {
   "cell_type": "markdown",
   "id": "a9e885c7-0628-4b01-97f2-0d4a5f72610e",
   "metadata": {},
   "source": [
    "Определим пользовательскую функцию одного аргумента `at_frame2` , которая будет вызываться в каждом кадре анимации. Единственный аргумент функции `at_frame2` является массивом из и координат точки графика функции. Функция `at_frame2` задает графический объект `line2` единственной точкой с координатами"
   ]
  },
  {
   "cell_type": "code",
   "execution_count": 30,
   "id": "a690fcb8-518f-432b-a4c9-92f5d5cbf4b8",
   "metadata": {},
   "outputs": [],
   "source": [
    "def at_frame2(point):\n",
    "    \"\"\"Задает объект line2 точкой с координатами (point[0], point[1])\n",
    "    \n",
    "    Arguments:\n",
    "    point : массив из двух элементов\n",
    "\n",
    "    Returns: None\n",
    "    \"\"\"\n",
    "    line2.set_data([point[0]], [point[1]]) \n"
   ]
  },
  {
   "cell_type": "markdown",
   "id": "ca6a9368-78c2-4b3b-8acd-54b55a4c79e5",
   "metadata": {},
   "source": [
    "Полагаем аргумент `init_func` функции `FunAnimation` равным пользовательской функции `init : init_func=init` . Функция `init` будет вызываться перед началом анимации. Назначение функции `init :` отображение графика функции, создание графика для отображения точки и создание легенды для двух графиков.\n"
   ]
  },
  {
   "cell_type": "code",
   "execution_count": 31,
   "id": "f29b4014-489f-48f2-bef8-42c4c531f9a8",
   "metadata": {},
   "outputs": [
    {
     "data": {
      "text/plain": [
       "<matplotlib.animation.FuncAnimation at 0x1885b53fd10>"
      ]
     },
     "execution_count": 31,
     "metadata": {},
     "output_type": "execute_result"
    },
    {
     "data": {
      "application/vnd.jupyter.widget-view+json": {
       "model_id": "5c4123c407fc4077bd8c2aa630942fd9",
       "version_major": 2,
       "version_minor": 0
      },
      "image/png": "[encoded data removed]",
      "text/html": [
       "\n",
       "            <div style=\"display: inline-block;\">\n",
       "                <div class=\"jupyter-widgets widget-label\" style=\"text-align: center;\">\n",
       "                    Figure\n",
       "                </div>\n",
       "                <img src='data:image/png;base64,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' width=640.0/>\n",
       "            </div>\n",
       "        "
      ],
      "text/plain": [
       "Canvas(toolbar=Toolbar(toolitems=[('Home', 'Reset original view', 'home', 'home'), ('Back', 'Back to previous …"
      ]
     },
     "metadata": {},
     "output_type": "display_data"
    }
   ],
   "source": [
    "fig2 = plt.figure()\n",
    "ax2 = plt.axes()\n",
    "plt.axis([x_min-0.5, x_max+0.5, y_min-0.5, y_max+0.5])\n",
    "def init():\n",
    "    \"\"\"Создает начальное состояние графической области\"\"\"\n",
    "    global line2  # Переменная сделана глобальной, чтобы она могла изменяться внутри функции\n",
    "    \n",
    "    line1, = ax2.plot(x_array, y_array, 'b')\n",
    "    line2, = ax2.plot([], [], 'go')\n",
    "    plt.legend([r'$y(x) = \\sin(x)^4$', 'Movable point'])\n",
    "    \n",
    "FuncAnimation(fig2, at_frame2, frames=matrix, init_func=init,repeat=False, interval=20)\n",
    "\n"
   ]
  },
  {
   "cell_type": "markdown",
   "id": "bf35a0d1-911b-41a8-8473-6991f22b70aa",
   "metadata": {},
   "source": [
    "## Реализация анимации для функции из 3.1b"
   ]
  },
  {
   "cell_type": "code",
   "execution_count": 32,
   "id": "44d68a87-b604-4ab1-a04c-087000a2c88e",
   "metadata": {},
   "outputs": [
    {
     "data": {
      "text/plain": [
       "(0.409116062888664, 1.8485904113678955, 1.1274892536358352, 5.037579007532105)"
      ]
     },
     "execution_count": 32,
     "metadata": {},
     "output_type": "execute_result"
    },
    {
     "data": {
      "application/vnd.jupyter.widget-view+json": {
       "model_id": "ab337793f2144ed885b9b1b66884fa11",
       "version_major": 2,
       "version_minor": 0
      },
      "image/png": "[encoded data removed]",
      "text/html": [
       "\n",
       "            <div style=\"display: inline-block;\">\n",
       "                <div class=\"jupyter-widgets widget-label\" style=\"text-align: center;\">\n",
       "                    Figure\n",
       "                </div>\n",
       "                <img src='data:image/png;base64,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' width=640.0/>\n",
       "            </div>\n",
       "        "
      ],
      "text/plain": [
       "Canvas(toolbar=Toolbar(toolitems=[('Home', 'Reset original view', 'home', 'home'), ('Back', 'Back to previous …"
      ]
     },
     "metadata": {},
     "output_type": "display_data"
    }
   ],
   "source": [
    "fig22 = plt.figure()\n",
    "ax22 = plt.axes()\n",
    "plt.axis([x_mn-0.5, x_mx+0.5, y_mn-0.5, y_mx+0.5])"
   ]
  },
  {
   "cell_type": "code",
   "execution_count": 33,
   "id": "0a02b51a-ee6d-47e0-a230-996bc3d95858",
   "metadata": {},
   "outputs": [],
   "source": [
    "line11, = ax22.plot(x, y,'r') # объект для графика функции\n",
    "line22, = ax22.plot([], [],'go') # объект для точки"
   ]
  },
  {
   "cell_type": "code",
   "execution_count": 34,
   "id": "f659c9b0-8c43-4dbc-a8ec-2ab3075da5b5",
   "metadata": {},
   "outputs": [],
   "source": [
    "def at_frame22(point):\n",
    "    \"\"\"Задает объект line22 точкой с координатами (point[0], point[1])\n",
    "    \n",
    "    Arguments:\n",
    "    point : массив из двух элементов\n",
    "\n",
    "    Returns: None\n",
    "    \"\"\"\n",
    "    line22.set_data([point[0]], [point[1]]) "
   ]
  },
  {
   "cell_type": "code",
   "execution_count": 35,
   "id": "d08fa35b-de09-4153-bd94-3b81ebb1715b",
   "metadata": {},
   "outputs": [
    {
     "data": {
      "text/plain": [
       "<matplotlib.animation.FuncAnimation at 0x1885b39f920>"
      ]
     },
     "execution_count": 35,
     "metadata": {},
     "output_type": "execute_result"
    },
    {
     "data": {
      "application/vnd.jupyter.widget-view+json": {
       "model_id": "4b003603a8ba46be8838539c3108b68c",
       "version_major": 2,
       "version_minor": 0
      },
      "image/png": "[encoded data removed]",
      "text/html": [
       "\n",
       "            <div style=\"display: inline-block;\">\n",
       "                <div class=\"jupyter-widgets widget-label\" style=\"text-align: center;\">\n",
       "                    Figure\n",
       "                </div>\n",
       "                <img src='data:image/png;base64,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' width=640.0/>\n",
       "            </div>\n",
       "        "
      ],
      "text/plain": [
       "Canvas(toolbar=Toolbar(toolitems=[('Home', 'Reset original view', 'home', 'home'), ('Back', 'Back to previous …"
      ]
     },
     "metadata": {},
     "output_type": "display_data"
    }
   ],
   "source": [
    "fig22 = plt.figure()\n",
    "ax22 = plt.axes()\n",
    "plt.axis([x_mn-0.5, x_mx+0.5, y_mn-0.5, y_mx+0.5])\n",
    "def init1():\n",
    "    \"\"\"Создает начальное состояние графической области\"\"\"\n",
    "    global line22  # Переменная сделана глобальной, чтобы она могла изменяться внутри функции\n",
    "    \n",
    "    line11, = ax22.plot(x, y,'r')\n",
    "    line22, = ax22.plot([], [], 'go')\n",
    "    plt.legend([r'$x = \\arctan e^{t/2}, \\quad y = \\sqrt{e^t + 1}$', 'Movable point'])\n",
    "    \n",
    "FuncAnimation(fig22, at_frame22, frames=matrix1, init_func=init1,repeat=False, interval=20)"
   ]
  },
  {
   "cell_type": "markdown",
   "id": "0658eb1a-c7dc-4fea-87a2-09064a4af8c2",
   "metadata": {},
   "source": [
    "# Задание 3.3. Движение секущей прямой к заданной линии на плоскости (версия 1)"
   ]
  },
  {
   "cell_type": "markdown",
   "id": "b78ffbdc-04ad-4e3f-ab2a-cdeaab6c5cc8",
   "metadata": {},
   "source": [
    "Перед началом анимации графическая область должна содержать следующие графические объекты: \n",
    "\n",
    "- график заданной функции, которая определяет траекторию движения подвижной точки B ;\n",
    "- неподвижную точку A ;\n",
    "- начальное положение подвижной точки B ;\n",
    "- cекущую прямую, проходящую через точки A и B .</br>\n",
    "Начальное состояние графической области реализуем с помощью пользовательской функции `init` .\n"
   ]
  },
  {
   "cell_type": "code",
   "execution_count": 36,
   "id": "a9096ce7-d7ab-4326-ae40-f77511c67e1d",
   "metadata": {},
   "outputs": [
    {
     "data": {
      "text/plain": [
       "<matplotlib.animation.FuncAnimation at 0x1885b68e510>"
      ]
     },
     "execution_count": 36,
     "metadata": {},
     "output_type": "execute_result"
    },
    {
     "data": {
      "application/vnd.jupyter.widget-view+json": {
       "model_id": "c991ecfb24c14d7482f3ada126189077",
       "version_major": 2,
       "version_minor": 0
      },
      "image/png": "[encoded data removed]",
      "text/html": [
       "\n",
       "            <div style=\"display: inline-block;\">\n",
       "                <div class=\"jupyter-widgets widget-label\" style=\"text-align: center;\">\n",
       "                    Figure\n",
       "                </div>\n",
       "                <img src='data:image/png;base64,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' width=640.0/>\n",
       "            </div>\n",
       "        "
      ],
      "text/plain": [
       "Canvas(toolbar=Toolbar(toolitems=[('Home', 'Reset original view', 'home', 'home'), ('Back', 'Back to previous …"
      ]
     },
     "metadata": {},
     "output_type": "display_data"
    }
   ],
   "source": [
    "fig3 = plt.figure()\n",
    "ax3 = plt.axes()\n",
    "plt.axis([x_min-1, x_max+1, y_min-1, y_max+1])\n",
    "def init():\n",
    "    global point_B, secant_line # переменные сделаны глобальными, чтобы они были\n",
    "\n",
    "    curve, = ax3.plot(x_array, y_array,'b') # графический объект для исходной фу\n",
    "\n",
    "    A = np.array([x_array[0], y_array[0]])\n",
    "    point_A, = ax3.plot(A[0],A[1],'ro') # графический объект для неподвижной точ\n",
    "\n",
    "    B = np.array([x_array[-1], y_array[-1]])\n",
    "    point_B, = ax3.plot(B[0],B[1],'go') # графический объект для подвижной точки\n",
    "\n",
    "    secant_p = [A + (B - A)*t for t in [-2, 2]] # две точки секущей прямой, прох\n",
    "    secant_p = np.array(secant_p)\n",
    "    secant_line, = ax3.plot(secant_p[:,0], secant_p[:,1],'g') # графический объе\n",
    "\n",
    "    plt.legend([r'$y(x) = \\sin(x)^4$','Unmovable point A','Мovable point B','Sec'])\n",
    "def at_frame3(point):\n",
    "    global point_B, secant_line\n",
    "    A = np.array([x_array[0], y_array[0]])\n",
    "    B = np.array([point[0],point[1]])\n",
    "    point_B.set_data([point[0]],[point[1]])\n",
    "    if B[0]==A[0]:\n",
    "        t = sympy.Symbol('t')\n",
    "        y_x=sympy.sin(t)**4\n",
    "        y_difx = sympy.diff(y_x, t) \n",
    "        k=y_difx.subs(t, A[0])\n",
    "        y_kasstart = np.array([A[0],A[1]])\n",
    "        y_kasend = np.array([A[0]+1,k+A[1]])\n",
    "        y_kas=[y_kasstart+ (y_kasend-y_kasstart)*t for t in [-8, 8]]\n",
    "        y_kas = np.array(y_kas)\n",
    "        secant_line.set_data(y_kas[:,0], y_kas[:,1])\n",
    "        secant_line.set_color('r')\n",
    "    else:\n",
    "        secant_p = [A + (B - A)*l for l in [-2, 2]] # две точки секущей прямой, прох\n",
    "        secant_p = np.array(secant_p)\n",
    "        secant_line.set_data(secant_p[:,0], secant_p[:,1])\n",
    "FuncAnimation(fig3, at_frame3, frames=matrix[::-1], init_func=init, repeat=False, interval=20)"
   ]
  },
  {
   "cell_type": "markdown",
   "id": "d31f45b8-e422-40e3-8cb7-08a2b7e76eaa",
   "metadata": {},
   "source": [
    "## Задание 3.4. Движение секущей прямой к заданной линии на плоскости (версия 2)"
   ]
  },
  {
   "cell_type": "code",
   "execution_count": 38,
   "id": "1a48295c-4a65-4382-83ec-d87dd42e5bc2",
   "metadata": {},
   "outputs": [
    {
     "data": {
      "text/plain": [
       "<matplotlib.animation.FuncAnimation at 0x1885b71bf50>"
      ]
     },
     "execution_count": 38,
     "metadata": {},
     "output_type": "execute_result"
    },
    {
     "data": {
      "application/vnd.jupyter.widget-view+json": {
       "model_id": "7a62ed553fdf4fbc908182ead980d36e",
       "version_major": 2,
       "version_minor": 0
      },
      "image/png": "[encoded data removed]",
      "text/html": [
       "\n",
       "            <div style=\"display: inline-block;\">\n",
       "                <div class=\"jupyter-widgets widget-label\" style=\"text-align: center;\">\n",
       "                    Figure\n",
       "                </div>\n",
       "                <img src='data:image/png;base64,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' width=640.0/>\n",
       "            </div>\n",
       "        "
      ],
      "text/plain": [
       "Canvas(toolbar=Toolbar(toolitems=[('Home', 'Reset original view', 'home', 'home'), ('Back', 'Back to previous …"
      ]
     },
     "metadata": {},
     "output_type": "display_data"
    }
   ],
   "source": [
    "fig33 = plt.figure()\n",
    "ax33 = plt.axes()\n",
    "plt.axis([x_mn-1, x_mx+1, y_mn-1, y_mx+1])\n",
    "def init3():\n",
    "    global point_B3, secant_line3 # переменные сделаны глобальными, чтобы они были\n",
    "\n",
    "    curve, = ax33.plot(x, y,'b') # графический объект для исходной фу\n",
    "\n",
    "    A3 = np.array([x[0], y[0]])\n",
    "    point_A3, = ax33.plot(A3[0],A3[1],'ro') # графический объект для неподвижной точ\n",
    "\n",
    "    B3 = np.array([x[-1], y[-1]])\n",
    "    point_B3, = ax33.plot(B3[0],B3[1],'go') # графический объект для подвижной точки\n",
    "\n",
    "    secant_p3 = [A3 + (B3 - A3)*t for t in [-2, 2]] # две точки секущей прямой, прох\n",
    "    secant_p3 = np.array(secant_p3)\n",
    "    secant_line3, = ax33.plot(secant_p3[:,0], secant_p3[:,1],'g') # графический объе\n",
    "\n",
    "    plt.legend([r'$y(x) = \\sin(x)^4$','Unmovable point A','Мovable point B','Sec'])\n",
    "def at_frame33(point):\n",
    "    global point_B3, secant_line3\n",
    "    A3 = np.array([x[0], y[0]])\n",
    "    B3 = np.array([point[0],point[1]])\n",
    "    point_B3.set_data([point[0]],[point[1]])\n",
    "    if B3[0]==A3[0]:\n",
    "        t = sympy.Symbol('t')\n",
    "        x_d=sympy.arctan(sympy.exp(t/2))\n",
    "        y_d = sympy.sqrt(sympy.exp(t) + 1)\n",
    "        x_difx = sympy.diff(x_d, t)\n",
    "        y_difx = sympy.diff(y_d, t) \n",
    "        k=y_difx.subs(t, A[0])/x_difx.subs(t, A[0])\n",
    "        y_kasstart = np.array([A[0],A[1]])\n",
    "        y_kasend = np.array([A[0]+1,k+A[1]])\n",
    "        y_kas=[y_kasstart+ (y_kasend-y_kasstart)*t for t in [-8, 8]]\n",
    "        y_kas = np.array(y_kas)\n",
    "        secant_line.set_data(y_kas[:,0], y_kas[:,1])\n",
    "        secant_line.set_color('r')\n",
    "    else:\n",
    "        secant_p3 = [A3 + (B3 - A3)*l for l in [-2, 2]] # две точки секущей прямой, прох\n",
    "        secant_p3 = np.array(secant_p3)\n",
    "        secant_line3.set_data(secant_p3[:,0], secant_p3[:,1])\n",
    "FuncAnimation(fig33, at_frame33, frames=matrix1[::-1], init_func=init3, repeat=False, interval=20)"
   ]
  },
  {
   "cell_type": "code",
   "execution_count": null,
   "id": "4a19f2bc-95a6-488c-aca9-16ac26b98d01",
   "metadata": {},
   "outputs": [],
   "source": []
  },
  {
   "cell_type": "code",
   "execution_count": null,
   "id": "c1a3af55-08d6-4a58-aad7-99c2b37af9c5",
   "metadata": {},
   "outputs": [],
   "source": []
  },
  {
   "cell_type": "code",
   "execution_count": null,
   "id": "4293e1c7-2dd1-4842-9f57-ba7cf5d89224",
   "metadata": {},
   "outputs": [],
   "source": []
  },
  {
   "cell_type": "code",
   "execution_count": null,
   "id": "7f4ef7d8-9f54-4f1f-aff6-9aa332ff4542",
   "metadata": {},
   "outputs": [],
   "source": []
  }
 ],
 "metadata": {
  "kernelspec": {
   "display_name": "Python 3 (ipykernel)",
   "language": "python",
   "name": "python3"
  },
  "language_info": {
   "codemirror_mode": {
    "name": "ipython",
    "version": 3
   },
   "file_extension": ".py",
   "mimetype": "text/x-python",
   "name": "python",
   "nbconvert_exporter": "python",
   "pygments_lexer": "ipython3",
   "version": "3.12.3"
  }
 },
 "nbformat": 4,
 "nbformat_minor": 5
}
