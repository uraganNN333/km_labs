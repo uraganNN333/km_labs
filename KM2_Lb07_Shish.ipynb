{
 "cells": [
  {
   "cell_type": "markdown",
   "id": "9c6053d5-a93a-4ce0-9890-dbb5e86ce65f",
   "metadata": {},
   "source": [
    "# Лабораторная работа 7\n",
    "# Построение бинарного дерева поиска. Подсчет количества элементов в дереве"
   ]
  },
  {
   "cell_type": "markdown",
   "id": "78ff1b30-4f61-4b13-a95c-940558bd646b",
   "metadata": {},
   "source": [
    "#### Присяжнюк Александра 15.05"
   ]
  },
  {
   "cell_type": "markdown",
   "id": "ddc6689a-ba70-44ce-86ef-96406bb4c928",
   "metadata": {},
   "source": [
    "# Задание 7.1 Определение классов"
   ]
  },
  {
   "cell_type": "markdown",
   "id": "b9207cec-b769-4af5-86e5-22ea430e7736",
   "metadata": {},
   "source": [
    "Бинарное дерево – это структура данных, которая либо пуста, либо содержит элемент дерева (корневую вершину), связанный с двумя различными бинарными деревьями, называемыми левым и правым поддеревьями.</br>\n",
    "Бинарное дерево поиска будет представлено экземпляром класса `BinaryTree .`</br>\n",
    "Элемент дерева (вершина) – сущность, имеющую значение и связанную с левым и правым поддеревом, если они существуют.</br>\n",
    "Элемент дерева будет представлен экземпляром класса `BinaryNode .`</br></br>\n",
    "Пустое бинарное дерево поиска будет представлено экземпляром класса `EmptyNode `</br>\n",
    "Экземпляр класса `BinaryTree` будет содержать ссылку на корень дерева. Корень\n",
    "дерева будет представлен экземпляром класса `EmptyNode` , если дерево пустое, или экземпляром класса `BinaryNode` , если дерево не пусто.</br>\n",
    "Для связывания элемента дерева со своими поддеревьями экземпляр класса\n",
    "`BinaryNode` будет содержать ссылки на корни левого и правого поддеревьев.</br>\n",
    "Корень поддерева представляется экземпляром класса `EmptyNode` , если поддерево\n",
    "пустое, или экземпляром класса `BinaryNode` , если поддерево не пусто.</br>\n",
    "В частности, лист дерева будет представлен экземпляром класса `BinaryNode` , правое и левое поддеревья которого являются экземплярами класса `EmptyNode `.\n"
   ]
  },
  {
   "cell_type": "code",
   "execution_count": 10,
   "id": "dcb94c1f-f083-4bae-acf1-2bc723316339",
   "metadata": {},
   "outputs": [],
   "source": [
    "class BinaryTree:\n",
    "    def __init__(self):\n",
    "        self.root = EmptyNode()\n",
    "    def __repr__(self):\n",
    "        return repr(self.root)\n",
    "    def insert(self, value):\n",
    "        self.root = self.root.insert(value)"
   ]
  },
  {
   "cell_type": "code",
   "execution_count": 13,
   "id": "02728708-caa5-4bb0-9ec7-8d79efd475c7",
   "metadata": {},
   "outputs": [],
   "source": [
    "class BinaryNode:\n",
    "    def __init__(self, left, value, right):\n",
    "        self.left = left\n",
    "        self.value = value\n",
    "        self.right = right\n",
    "\n",
    "    def __repr__(self):\n",
    "        return f'({self.left}, {self.value}, {self.right})'"
   ]
  },
  {
   "cell_type": "code",
   "execution_count": 16,
   "id": "ada22dec-e12c-43d8-89c5-684e97bc6fcd",
   "metadata": {},
   "outputs": [],
   "source": [
    "class EmptyNode:\n",
    "    def __repr__(self):\n",
    "        return '*'\n",
    "\n",
    "    def insert(self, value):\n",
    "        return BinaryNode(self, value, self)"
   ]
  },
  {
   "cell_type": "markdown",
   "id": "248f9586-3489-44e9-aa8b-8569f4f62296",
   "metadata": {},
   "source": [
    "# Задание 7.2 Метод вставки элемента в бинарное дерево поиска"
   ]
  },
  {
   "cell_type": "code",
   "execution_count": 25,
   "id": "03a3b445-7f14-4dd2-8da1-d2d87972110a",
   "metadata": {},
   "outputs": [],
   "source": [
    "class BinaryNode:\n",
    "    def __init__(self, left, value, right):\n",
    "        self.left = left\n",
    "        self.value = value\n",
    "        self.right = right\n",
    "\n",
    "    def __repr__(self):\n",
    "        return f'({self.left}, {self.value}, {self.right})'\n",
    "\n",
    "    def insert(self, value):\n",
    "         if value<self.value:\n",
    "             self.left =self.left.insert(value)\n",
    "         else:\n",
    "             self.right =self.right.insert(value)\n",
    "         return self"
   ]
  },
  {
   "cell_type": "code",
   "execution_count": 40,
   "id": "0f4449bb-ae8e-48f8-81e9-8ef9d309f40b",
   "metadata": {},
   "outputs": [],
   "source": [
    "tree1=BinaryTree()"
   ]
  },
  {
   "cell_type": "code",
   "execution_count": 42,
   "id": "fa4a7975-edb4-46ed-8eb9-c376645797ae",
   "metadata": {},
   "outputs": [],
   "source": [
    "source_data = [5,1,10,3,4]"
   ]
  },
  {
   "cell_type": "code",
   "execution_count": 44,
   "id": "4cc4a9a7-8581-44df-b1af-3d88801da6d9",
   "metadata": {},
   "outputs": [
    {
     "name": "stdout",
     "output_type": "stream",
     "text": [
      "(*, 5, *)\n",
      "((*, 1, *), 5, *)\n",
      "((*, 1, *), 5, (*, 10, *))\n",
      "((*, 1, (*, 3, *)), 5, (*, 10, *))\n",
      "((*, 1, (*, 3, (*, 4, *))), 5, (*, 10, *))\n"
     ]
    }
   ],
   "source": [
    "for i in source_data:\n",
    "    tree1.insert(i)\n",
    "    print(tree1)"
   ]
  },
  {
   "cell_type": "code",
   "execution_count": 150,
   "id": "19648d96-a4da-4100-84fa-603b4d8d2dc5",
   "metadata": {},
   "outputs": [],
   "source": [
    "tree2=BinaryTree()"
   ]
  },
  {
   "cell_type": "code",
   "execution_count": 152,
   "id": "91cc2a71-4fbb-492f-b2bc-1b9b095a7634",
   "metadata": {},
   "outputs": [
    {
     "data": {
      "text/plain": [
       "(*, -4, (*, -3, (*, -2, (*, -1, (*, 0, (*, 1, (*, 2, (*, 3, (*, 4, *)))))))))"
      ]
     },
     "execution_count": 152,
     "metadata": {},
     "output_type": "execute_result"
    }
   ],
   "source": [
    "for i in range(-4,5):\n",
    "    tree2.insert(i)\n",
    "tree2"
   ]
  },
  {
   "cell_type": "code",
   "execution_count": 154,
   "id": "762c8eb4-0809-44b7-8f8b-ff9cdc292c2a",
   "metadata": {},
   "outputs": [
    {
     "data": {
      "text/plain": [
       "(*, c, (((*, e, *), m, *), o, (*, p, (((*, r, *), t, *), u, *))))"
      ]
     },
     "execution_count": 154,
     "metadata": {},
     "output_type": "execute_result"
    }
   ],
   "source": [
    "tree3=BinaryTree()\n",
    "for i in \"computer\":\n",
    "    tree3.insert(i)\n",
    "tree3"
   ]
  },
  {
   "cell_type": "markdown",
   "id": "aec3e76f-ce70-44cc-9d97-18fc9d679127",
   "metadata": {},
   "source": [
    "# Задание 7.3 Построение бинарного дерева поиска"
   ]
  },
  {
   "cell_type": "markdown",
   "id": "a0040b82-d307-4c2f-8752-0fe9450890fd",
   "metadata": {},
   "source": [
    "Тип 1"
   ]
  },
  {
   "cell_type": "code",
   "execution_count": 56,
   "id": "64eb0818-b051-4bda-9ce6-a8b62b16c4a3",
   "metadata": {},
   "outputs": [
    {
     "data": {
      "text/plain": [
       "((((*, 2, (*, 5, *)), 11, ((*, 12, *), 21, *)), 32, (*, 45, *)), 54, (*, 95, *))"
      ]
     },
     "execution_count": 56,
     "metadata": {},
     "output_type": "execute_result"
    }
   ],
   "source": [
    "tree11 = BinaryTree()\n",
    "with open(\"file1.txt\", \"r\") as f:\n",
    "    for line in f:\n",
    "        number = int(line.strip())\n",
    "        tree11.insert(number)\n",
    "tree11"
   ]
  },
  {
   "cell_type": "code",
   "execution_count": 85,
   "id": "1c8417ce-d85a-4757-833c-05688490cf9b",
   "metadata": {},
   "outputs": [
    {
     "data": {
      "text/plain": [
       "(((((((*, 4, (*, 4, *)), 5, ((*, 5, *), 6, (*, 7, (*, 7, *)))), 8, (*, 9, (*, 9, *))), 11, *), 12, (*, 21, *)), 32, (*, 33, ((*, 33, *), 55, *))), 67, ((*, 67, (*, 70, *)), 78, *))"
      ]
     },
     "execution_count": 85,
     "metadata": {},
     "output_type": "execute_result"
    }
   ],
   "source": [
    "import numpy as np\n",
    "tree22=BinaryTree()\n",
    "file=np.loadtxt(\"file2.txt\")\n",
    "for row in file:\n",
    "    for i in row:\n",
    "        tree22.insert(int(i)) \n",
    "tree22"
   ]
  },
  {
   "cell_type": "code",
   "execution_count": 64,
   "id": "fa9cb528-d5d5-42cc-93fd-be087719d092",
   "metadata": {},
   "outputs": [
    {
     "data": {
      "text/plain": [
       "(((*, 22, (*, 33, *)), 5, (*, 6, *)), 64, ((*, 7, *), 78, (*, 78, *)))"
      ]
     },
     "execution_count": 64,
     "metadata": {},
     "output_type": "execute_result"
    }
   ],
   "source": [
    "tree33 = BinaryTree()\n",
    "with open(\"file3.txt\", \"r\") as f:\n",
    "    for line in f:\n",
    "        line_=line.strip().split()\n",
    "        for i in line_:\n",
    "            tree33.insert(i)\n",
    "tree33"
   ]
  },
  {
   "cell_type": "code",
   "execution_count": 79,
   "id": "4c7a4d17-d247-41f9-a455-450d73948424",
   "metadata": {},
   "outputs": [
    {
     "data": {
      "text/plain": [
       "(((*, 2, *), 4, (*, 6, (*, 9, *))), 10, *)"
      ]
     },
     "execution_count": 79,
     "metadata": {},
     "output_type": "execute_result"
    }
   ],
   "source": [
    "import json\n",
    "tree4 = BinaryTree()\n",
    "with open(\"file4.json\", \"r\") as f:\n",
    "    data = json.load(f)         \n",
    "    for numbers in data.values():\n",
    "        for num in numbers:\n",
    "            tree4.insert(num)\n",
    "tree4"
   ]
  },
  {
   "cell_type": "markdown",
   "id": "e2ca8738-dfae-419c-9f8c-07b589ee866f",
   "metadata": {},
   "source": [
    "json.load(file)\n",
    "- Загружает JSON-данные из файла и преобразует их в объект Python\n",
    "- Аргумент: файловый объект\n",
    "- Возвращает: dict, list или другой тип в зависимости от структуры JSON"
   ]
  },
  {
   "cell_type": "markdown",
   "id": "6eea767f-b69b-4a01-9c9d-e9453b67969f",
   "metadata": {},
   "source": [
    "# Задание 7.4 Перегрузка операции принадлежности in"
   ]
  },
  {
   "cell_type": "code",
   "execution_count": 89,
   "id": "6556ad1c-2682-49c6-8721-bc4a9bd3874f",
   "metadata": {},
   "outputs": [],
   "source": [
    "class BinaryTree:\n",
    "    def __init__(self):\n",
    "        self.root = EmptyNode()\n",
    "    def __repr__(self):\n",
    "        return repr(self.root)\n",
    "    def insert(self, value):\n",
    "        self.root = self.root.insert(value)\n",
    "    def __contains__(self, value):\n",
    "        return value in self.root"
   ]
  },
  {
   "cell_type": "code",
   "execution_count": 92,
   "id": "ee7ba512-a561-4ace-b00b-09e65734aacf",
   "metadata": {},
   "outputs": [],
   "source": [
    "class BinaryNode:\n",
    "    def __init__(self, left, value, right):\n",
    "        self.left = left\n",
    "        self.value = value\n",
    "        self.right = right\n",
    "\n",
    "    def __repr__(self):\n",
    "        return f'({self.left}, {self.value}, {self.right})'\n",
    "\n",
    "    def insert(self, value):\n",
    "         if value<self.value:\n",
    "             self.left =self.left.insert(value)\n",
    "         else:\n",
    "             self.right =self.right.insert(value)\n",
    "         return self\n",
    "    def __contains__(self, value):\n",
    "        if value==self.value:\n",
    "            return True\n",
    "        if value<self.value:\n",
    "            return value in self.left\n",
    "        if value>self.value:\n",
    "            return value in self.right "
   ]
  },
  {
   "cell_type": "code",
   "execution_count": 97,
   "id": "fa90a44d-a803-46f1-898b-928cbdf40b0d",
   "metadata": {},
   "outputs": [],
   "source": [
    "class EmptyNode:\n",
    "    def __repr__(self):\n",
    "        return '*'\n",
    "\n",
    "    def insert(self, value):\n",
    "        return BinaryNode(self, value, self)\n",
    "    def __contains__(self, value):\n",
    "        return False"
   ]
  },
  {
   "cell_type": "code",
   "execution_count": 99,
   "id": "3d408c86-d4fa-4038-b9da-c6b75a157e81",
   "metadata": {},
   "outputs": [
    {
     "name": "stdout",
     "output_type": "stream",
     "text": [
      "(*, 5, *)\n",
      "((*, 1, *), 5, *)\n",
      "((*, 1, *), 5, (*, 10, *))\n",
      "((*, 1, (*, 3, *)), 5, (*, 10, *))\n",
      "((*, 1, (*, 3, (*, 4, *))), 5, (*, 10, *))\n",
      "(0, False) (1, True) (2, False) (3, True) (4, True) (5, True) (6, False) (7, False) (8, False) (9, False) "
     ]
    }
   ],
   "source": [
    "source_data = [5,1,10,3,4]\n",
    "tree = BinaryTree()\n",
    "for i in source_data:\n",
    "    tree.insert(i)\n",
    "    print(tree)\n",
    "for i in range(10):\n",
    "    print((i, i in tree), end = ' ')\n"
   ]
  },
  {
   "cell_type": "code",
   "execution_count": 112,
   "id": "9442cefd-ba5c-473e-8b08-8925f724499e",
   "metadata": {},
   "outputs": [
    {
     "data": {
      "text/plain": [
       "(*, -4, (*, -3, (*, -2, (*, -1, (*, 0, (*, 1, (*, 2, (*, 3, (*, 4, *)))))))))"
      ]
     },
     "execution_count": 112,
     "metadata": {},
     "output_type": "execute_result"
    }
   ],
   "source": [
    "tree2"
   ]
  },
  {
   "cell_type": "code",
   "execution_count": 110,
   "id": "ab9716b9-21e7-4c4b-b345-99ff01a67f35",
   "metadata": {},
   "outputs": [
    {
     "name": "stdout",
     "output_type": "stream",
     "text": [
      "(5, False) (1, True) (10, False) (3, True) (4, True) "
     ]
    }
   ],
   "source": [
    "for i in [5,1,10,3,4]:\n",
    "    print((i, i in tree2), end = ' ')"
   ]
  },
  {
   "cell_type": "code",
   "execution_count": 118,
   "id": "4ea44385-eaff-4b7d-9faf-87c2b5cec68e",
   "metadata": {},
   "outputs": [
    {
     "name": "stdout",
     "output_type": "stream",
     "text": [
      "('m', True) ('a', False) ('t', True) ('h', False) "
     ]
    }
   ],
   "source": [
    "for i in \"math\":\n",
    "    print((i, i in tree3), end = ' ')"
   ]
  },
  {
   "cell_type": "markdown",
   "id": "47f9f93e-54e9-4f36-8c9d-8502f962a01b",
   "metadata": {},
   "source": [
    "# Задание 7.5 Перегрузка встроенной функции len"
   ]
  },
  {
   "cell_type": "code",
   "execution_count": 142,
   "id": "1c752868-8231-4f74-9d65-3b3164999feb",
   "metadata": {},
   "outputs": [],
   "source": [
    "class BinaryTree:\n",
    "    def __init__(self):\n",
    "        BinaryNode.numberOfNodes = 0\n",
    "        self.root = EmptyNode()\n",
    "    def __repr__(self):\n",
    "        return repr(self.root)\n",
    "    def insert(self, value):\n",
    "        self.root = self.root.insert(value)\n",
    "    def __contains__(self, value):\n",
    "        return value in self.root\n",
    "    def __len__(self):\n",
    "        return len(self.root)"
   ]
  },
  {
   "cell_type": "code",
   "execution_count": 144,
   "id": "5eb9354b-da62-458b-987d-8787c8bee252",
   "metadata": {},
   "outputs": [],
   "source": [
    "class BinaryNode:\n",
    "    numberOfNodes = 0 \n",
    "    def __init__(self, left, value, right):\n",
    "        self.left = left\n",
    "        self.value = value\n",
    "        self.right = right\n",
    "        BinaryNode.numberOfNodes += 1 \n",
    "\n",
    "    def __repr__(self):\n",
    "        return f'({self.left}, {self.value}, {self.right})'\n",
    "\n",
    "    def insert(self, value):\n",
    "         if value<self.value:\n",
    "             self.left =self.left.insert(value)\n",
    "         else:\n",
    "             self.right =self.right.insert(value)\n",
    "         return self\n",
    "    def __contains__(self, value):\n",
    "        if value==self.value:\n",
    "            return True\n",
    "        if value<self.value:\n",
    "            return value in self.left\n",
    "        if value>self.value:\n",
    "            return value in self.right \n",
    "    def __len__(self):\n",
    "        return self.numberOfNodes"
   ]
  },
  {
   "cell_type": "code",
   "execution_count": 146,
   "id": "d6732985-5fa0-44c6-8413-f91f33c63292",
   "metadata": {},
   "outputs": [],
   "source": [
    "class EmptyNode:\n",
    "    def __repr__(self):\n",
    "        return '*'\n",
    "\n",
    "    def insert(self, value):\n",
    "        return BinaryNode(self, value, self)\n",
    "    def __contains__(self, value):\n",
    "        return False\n",
    "    def __len__(self):\n",
    "        return 0"
   ]
  },
  {
   "cell_type": "code",
   "execution_count": 148,
   "id": "722fe999-3fe5-492c-be1d-7a86dfe201d7",
   "metadata": {},
   "outputs": [
    {
     "data": {
      "text/plain": [
       "5"
      ]
     },
     "execution_count": 148,
     "metadata": {},
     "output_type": "execute_result"
    }
   ],
   "source": [
    "tree = BinaryTree()\n",
    "for i in source_data:\n",
    "    tree.insert(i)\n",
    "len(tree)\n"
   ]
  },
  {
   "cell_type": "code",
   "execution_count": 158,
   "id": "fce54f0f-03c6-4bb7-ac79-7c78e90b0f4b",
   "metadata": {},
   "outputs": [
    {
     "data": {
      "text/plain": [
       "(*, -4, (*, -3, (*, -2, (*, -1, (*, 0, (*, 1, (*, 2, (*, 3, (*, 4, *)))))))))"
      ]
     },
     "execution_count": 158,
     "metadata": {},
     "output_type": "execute_result"
    }
   ],
   "source": [
    "tree2"
   ]
  },
  {
   "cell_type": "code",
   "execution_count": 156,
   "id": "3a33abb7-ecb4-4fdf-af23-fc6180890b4a",
   "metadata": {},
   "outputs": [
    {
     "data": {
      "text/plain": [
       "8"
      ]
     },
     "execution_count": 156,
     "metadata": {},
     "output_type": "execute_result"
    }
   ],
   "source": [
    "len(tree2)"
   ]
  },
  {
   "cell_type": "code",
   "execution_count": 160,
   "id": "3063b2d9-ec9e-4fd7-ac6b-565e42ce5e41",
   "metadata": {},
   "outputs": [
    {
     "data": {
      "text/plain": [
       "(*, c, (((*, e, *), m, *), o, (*, p, (((*, r, *), t, *), u, *))))"
      ]
     },
     "execution_count": 160,
     "metadata": {},
     "output_type": "execute_result"
    }
   ],
   "source": [
    "tree3"
   ]
  },
  {
   "cell_type": "code",
   "execution_count": 162,
   "id": "8bb46605-30dd-4ff2-ad9e-3ac779f8e668",
   "metadata": {},
   "outputs": [
    {
     "data": {
      "text/plain": [
       "8"
      ]
     },
     "execution_count": 162,
     "metadata": {},
     "output_type": "execute_result"
    }
   ],
   "source": [
    "len(tree3)"
   ]
  },
  {
   "cell_type": "code",
   "execution_count": null,
   "id": "9f63ab70-ad6b-4804-9bf4-dad68c97d753",
   "metadata": {},
   "outputs": [],
   "source": []
  }
 ],
 "metadata": {
  "kernelspec": {
   "display_name": "Python [conda env:base] *",
   "language": "python",
   "name": "conda-base-py"
  },
  "language_info": {
   "codemirror_mode": {
    "name": "ipython",
    "version": 3
   },
   "file_extension": ".py",
   "mimetype": "text/x-python",
   "name": "python",
   "nbconvert_exporter": "python",
   "pygments_lexer": "ipython3",
   "version": "3.12.7"
  }
 },
 "nbformat": 4,
 "nbformat_minor": 5
}
