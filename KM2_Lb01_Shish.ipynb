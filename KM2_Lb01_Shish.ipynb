{
 "cells": [
  {
   "cell_type": "markdown",
   "id": "ab3b3f71-5d90-4596-a22f-c3a1e212ead1",
   "metadata": {},
   "source": [
    "# Лабораторная работа 1 \n",
    "\n",
    "# Задача о падении тела. Построение графиков функций"
   ]
  },
  {
   "cell_type": "markdown",
   "id": "574b9f60-af59-48d1-b68a-4a35d6301a58",
   "metadata": {},
   "source": [
    "#### Шиш Кирилл Сергеевич, 20.02"
   ]
  },
  {
   "cell_type": "markdown",
   "id": "c7979b8e-5e82-4971-baf9-fc0961765459",
   "metadata": {},
   "source": [
    "# Задание 1.1. Задача о падении тела"
   ]
  },
  {
   "cell_type": "markdown",
   "id": "8506bd5e-ae89-4afe-a828-5b658c76bf64",
   "metadata": {},
   "source": [
    "**Описание процесса**.\n",
    "Тело запущено под углом $\\alpha$ к горизонту на высоте $h_{start}$ и через\n",
    "время $t=T$ достигает другое тело, расположенное на расстоянии $s_{end}$ и\n",
    "высоте $h_{end}$. </br>\n",
    "**Предположения**.\n",
    "- Тело будем считать материальной точкой массы $m$.\n",
    "- Движение запущенного тела осуществляется только под действием силы\n",
    "тяжести $${\\bf F} = m (0,-g),$$ где $m$ -- масса тела, $g$ -- ускорение\n",
    "свободного падения.\n",
    "- Сопротивлением среды пренебрегаем.</br>\n",
    "**Данные**.\n",
    "- Задача рассматривается при следующих значениях параметров:  \n",
    "  $ h_{start} = 1 $ м, $ h_{end} = 3 $ м, $ T = 3 $ с, $ s_{end} = 5 $ м.\n",
    "- Угол запуска тела $ \\alpha $ не известен.\n",
    "- Начальный момент времени движения тела полагаем равным нулю: $ t = 0 $.\n",
    "- Значение массы тела $ m $ не повлияет на функции перемещения тела.</br>\n",
    "**Задания для выполнения**.\n",
    "- $\\color{red}{\\text{Определим}}$ функцию перемещения тела $ (s_x(t), s_y(t)) $  \n",
    "  под действием силы тяжести, где $ s_x(t) $ и $ s_y(t) $ — горизонтальная  \n",
    "  и вертикальная составляющая положения тела в момент времени $ t $, соответственно.\n",
    "- $\\color{red}{\\text{Найдем}}$ угол запуска тела $ \\alpha $.\n",
    "- $\\color{red}{\\text{Построим}}$ график траектории движения тела $ (s_x(t), s_y(t)) $  \n",
    "  для $ t \\in [0, T] $."
   ]
  },
  {
   "cell_type": "markdown",
   "id": "e8085ee4-e6f6-4f91-918e-67b96490b6ae",
   "metadata": {},
   "source": [
    "## Этап 1"
   ]
  },
  {
   "cell_type": "markdown",
   "id": "0235a15a-8d37-47ce-91d1-e9c916a336cc",
   "metadata": {},
   "source": [
    "Импортируем модуль `math` с математическими функциями из стандартной библиотеки:"
   ]
  },
  {
   "cell_type": "code",
   "execution_count": 2,
   "id": "0354b821-90fc-454e-aee0-06c5ad60a130",
   "metadata": {},
   "outputs": [],
   "source": [
    "import math"
   ]
  },
  {
   "cell_type": "markdown",
   "id": "2ee1f951-6656-4d1d-a47c-61798916b673",
   "metadata": {},
   "source": [
    "Доступ к инструментам модуля осуществляется с применением синтаксиса\n",
    "уточнения `<имя модуля>.<имя атрибута>` . Например,"
   ]
  },
  {
   "cell_type": "code",
   "execution_count": 3,
   "id": "397d9910-1515-4b49-bb05-5b6908f6ccb4",
   "metadata": {},
   "outputs": [
    {
     "data": {
      "text/plain": [
       "2.0"
      ]
     },
     "execution_count": 3,
     "metadata": {},
     "output_type": "execute_result"
    }
   ],
   "source": [
    "math.sqrt(4)"
   ]
  },
  {
   "cell_type": "markdown",
   "id": "89da3cef-0148-48cb-bb7b-25c0d209c865",
   "metadata": {},
   "source": [
    "Импортируем расширение numpy и создадим псевдоним np для доступа к инструментам модуля, не используя имя numpy"
   ]
  },
  {
   "cell_type": "code",
   "execution_count": 4,
   "id": "ad28cbb5-b333-4876-8f2f-443a0acd616b",
   "metadata": {},
   "outputs": [],
   "source": [
    "import numpy as np"
   ]
  },
  {
   "cell_type": "markdown",
   "id": "cea56478-747a-48a2-8bb3-3ad28fa59904",
   "metadata": {},
   "source": [
    "Расширение numpy основано на работе со структурой данных массив (ndarray). Массив (ndarray) не является встроенным типом данных Python, он является базовым типом расширения numpy.\n",
    "Импортируем модуль pyplot из пакета matplotlib для построения графиков. Для этого примененим синтаксис <имя пакета>.<имя модуля в пакете> и создадим псевдоним имени модуля plt"
   ]
  },
  {
   "cell_type": "code",
   "execution_count": 5,
   "id": "2d06e461-7d18-418c-9931-e884bb8d724e",
   "metadata": {},
   "outputs": [],
   "source": [
    "import matplotlib.pyplot as plt"
   ]
  },
  {
   "cell_type": "markdown",
   "id": "4fc3e796-fb1f-47dc-86f8-38381b66afe6",
   "metadata": {},
   "source": [
    "Импортируем модуль constants из пакета расширений scipy с псевдонимом const . Модуль constants предоставляет доступ к значениям физических констант"
   ]
  },
  {
   "cell_type": "code",
   "execution_count": 6,
   "id": "fb6ed569-6fdc-412d-ae9b-adbfef1dc2e1",
   "metadata": {},
   "outputs": [],
   "source": [
    "import scipy.constants as const"
   ]
  },
  {
   "cell_type": "markdown",
   "id": "caeb4512-84a5-458e-b514-dc974ba3cda9",
   "metadata": {},
   "source": [
    "Импортируем модуль sympy для символьных вычислений в Python"
   ]
  },
  {
   "cell_type": "code",
   "execution_count": 7,
   "id": "f0d8786e-8a8a-4075-810f-44585c148b55",
   "metadata": {},
   "outputs": [],
   "source": [
    "import sympy"
   ]
  },
  {
   "cell_type": "markdown",
   "id": "d7174554-f79d-4aa1-a671-68656bc262e2",
   "metadata": {},
   "source": [
    "## Этап 2. Создание переменных"
   ]
  },
  {
   "cell_type": "markdown",
   "id": "23706689-b7aa-4772-881a-18d5b822ca15",
   "metadata": {},
   "source": [
    "Переменные создаются при первом присваивании им значений. Слева от оператора присваивания (=) записывается переменная, справа — выражение, результатом вычисления которого является объект:переменная = объект. Имена переменных рекомендовано задавать в нижнем регистре с использованием знака нижнего подчеркивания для смыслового разделения имени на части, например first_variable = 1 . Объявлять переменные перед их инициализацией не нужно.\n",
    "После присваивания всякий раз, когда переменная появляется в коде, она заменяется на объект, на который ссылается. Нельзя использовать переменную, которой не присвоено значение"
   ]
  },
  {
   "cell_type": "code",
   "execution_count": 8,
   "id": "03fcbf7e-30c4-4776-959c-57c4423995c2",
   "metadata": {},
   "outputs": [],
   "source": [
    "h_start = 1 # вертикальная составляющая положения тела в момент запуска\n",
    "h_end = 3.0E+0 # вертикальная составляющая положения тела в конечный момент движ\n",
    "T = 3.0 # время полета\n",
    "s_end = 5.0e0 # горизонтальное перемещение тела за время полета"
   ]
  },
  {
   "cell_type": "markdown",
   "id": "4208a3bf-5a4c-457f-8395-faa1feda6737",
   "metadata": {},
   "source": [
    "Отобразить значение переменной можно, указав ее имя в ячейке ввода в последней строке или с использованием встроенной функции print"
   ]
  },
  {
   "cell_type": "code",
   "execution_count": 9,
   "id": "4bc32eeb-9bdb-498e-8d1c-22acf70d1a91",
   "metadata": {},
   "outputs": [
    {
     "data": {
      "text/plain": [
       "3.0"
      ]
     },
     "execution_count": 9,
     "metadata": {},
     "output_type": "execute_result"
    }
   ],
   "source": [
    "h_start # переменная не отобразится\n",
    "h_end # переменная отобразится"
   ]
  },
  {
   "cell_type": "code",
   "execution_count": 10,
   "id": "88161d28-0b39-4cb2-a39c-0c01545ecbf8",
   "metadata": {},
   "outputs": [
    {
     "name": "stdout",
     "output_type": "stream",
     "text": [
      "1 3.0\n"
     ]
    }
   ],
   "source": [
    "print(h_start, h_end)"
   ]
  },
  {
   "cell_type": "markdown",
   "id": "fee7e6f3-57de-41ba-bc94-cdfdd35f18f7",
   "metadata": {},
   "source": [
    "Определим значение ускорения свободного падения для дальнейших расчетов:"
   ]
  },
  {
   "cell_type": "code",
   "execution_count": 11,
   "id": "31e55c32-44c3-4014-82fd-c597a72b3682",
   "metadata": {},
   "outputs": [
    {
     "data": {
      "text/plain": [
       "(9.80665, 'm s^-2')"
      ]
     },
     "execution_count": 11,
     "metadata": {},
     "output_type": "execute_result"
    }
   ],
   "source": [
    "g = const.g\n",
    "g, const.unit('standard acceleration of gravity')"
   ]
  },
  {
   "cell_type": "markdown",
   "id": "cf399c0d-1cbb-4c87-b0cb-af959915a559",
   "metadata": {},
   "source": [
    "$\\color{red}\\text{Приведем}$ примеры физических констант из модуля\n",
    "constants пакета расширений scipy"
   ]
  },
  {
   "cell_type": "code",
   "execution_count": 12,
   "id": "56f95231-4b91-4384-aae0-8f0413546153",
   "metadata": {},
   "outputs": [
    {
     "name": "stdout",
     "output_type": "stream",
     "text": [
      "['Avogadro', 'Boltzmann', 'Btu', 'Btu_IT', 'Btu_th', 'ConstantWarning', 'G', 'Julian_year', 'N_A', 'Planck', 'R', 'Rydberg', 'Stefan_Boltzmann', 'Wien', '__all__', '__builtins__', '__cached__', '__doc__', '__file__', '__loader__', '__name__', '__package__', '__path__', '__spec__', '_codata', '_constants', '_obsolete_constants', 'acre', 'alpha', 'angstrom', 'arcmin', 'arcminute', 'arcsec', 'arcsecond', 'astronomical_unit', 'atm', 'atmosphere', 'atomic_mass', 'atto', 'au', 'bar', 'barrel', 'bbl', 'blob', 'c', 'calorie', 'calorie_IT', 'calorie_th', 'carat', 'centi', 'codata', 'constants', 'convert_temperature', 'day', 'deci', 'degree', 'degree_Fahrenheit', 'deka', 'dyn', 'dyne', 'e', 'eV', 'electron_mass', 'electron_volt', 'elementary_charge', 'epsilon_0', 'erg', 'exa', 'exbi', 'femto', 'fermi', 'find', 'fine_structure', 'fluid_ounce', 'fluid_ounce_US', 'fluid_ounce_imp', 'foot', 'g', 'gallon', 'gallon_US', 'gallon_imp', 'gas_constant', 'gibi', 'giga', 'golden', 'golden_ratio', 'grain', 'gram', 'gravitational_constant', 'h', 'hbar', 'hectare', 'hecto', 'horsepower', 'hour', 'hp', 'inch', 'k', 'kgf', 'kibi', 'kilo', 'kilogram_force', 'kmh', 'knot', 'lambda2nu', 'lb', 'lbf', 'light_year', 'liter', 'litre', 'long_ton', 'm_e', 'm_n', 'm_p', 'm_u', 'mach', 'mebi', 'mega', 'metric_ton', 'micro', 'micron', 'mil', 'mile', 'milli', 'minute', 'mmHg', 'mph', 'mu_0', 'nano', 'nautical_mile', 'neutron_mass', 'nu2lambda', 'ounce', 'oz', 'parsec', 'pebi', 'peta', 'physical_constants', 'pi', 'pico', 'point', 'pound', 'pound_force', 'precision', 'proton_mass', 'psi', 'pt', 'quecto', 'quetta', 'ronna', 'ronto', 'short_ton', 'sigma', 'slinch', 'slug', 'speed_of_light', 'speed_of_sound', 'stone', 'survey_foot', 'survey_mile', 'tebi', 'tera', 'test', 'ton_TNT', 'torr', 'troy_ounce', 'troy_pound', 'u', 'unit', 'value', 'week', 'yard', 'year', 'yobi', 'yocto', 'yotta', 'zebi', 'zepto', 'zero_Celsius', 'zetta']\n"
     ]
    }
   ],
   "source": [
    "print(dir(const))"
   ]
  },
  {
   "cell_type": "code",
   "execution_count": 13,
   "id": "644b0600-49bf-44bc-9528-923644cfc286",
   "metadata": {},
   "outputs": [
    {
     "name": "stdout",
     "output_type": "stream",
     "text": [
      "1.602176634e-19\n"
     ]
    }
   ],
   "source": [
    "print(const.eV)"
   ]
  },
  {
   "cell_type": "markdown",
   "id": "fe2df5df-f826-4e99-b56a-d55bb17f9913",
   "metadata": {},
   "source": [
    "Как можно было заметить большое количество констант имеющихся в модуле `constants` примером одного из них служит элементарный заряд"
   ]
  },
  {
   "cell_type": "markdown",
   "id": "241809cb-2c66-4463-ab86-438b5e92e3fb",
   "metadata": {},
   "source": [
    "Временной отрезок $[0,T]$ представим в виде последовательности чисел. Cоздадим\n",
    "последовательность равномерно распределенных чисел на отрезке $[0,T]$ с шагом\n",
    "0.01 двумя способами: на основе встроенного типа список (` list `) и на основе\n",
    "массива (` ndarray `) из расширения `numpy`"
   ]
  },
  {
   "cell_type": "code",
   "execution_count": 14,
   "id": "c702e7f1-f5a1-4038-89a7-b0409c82de04",
   "metadata": {},
   "outputs": [],
   "source": [
    "step = 0.01\n",
    "t_list = [0 + i*step for i in range(int(T/0.01))]\n",
    "t_array = np.arange(0,T,step)"
   ]
  },
  {
   "cell_type": "markdown",
   "id": "7d14de31-b63c-4cb5-983a-ee9c8100da76",
   "metadata": {},
   "source": [
    "Функция arrange создает массив равномерно распределенных значений в заданном интервале, возвращает массив `NumPy`, поддерживает дробные числа.</br> Функция `range` возвращает последовательность чисел, начиная с 0 по умолчанию, с увеличением на 1 (по умолчанию) и заканчивая указанным числом. Может быть преобразован в список `list()`. Поддерживает только целые занчения.</br> При этом посл создания `list` его размер можно изменять, а вот размер `ndarray` изменить нельзя  </br> Примеры:"
   ]
  },
  {
   "cell_type": "code",
   "execution_count": 15,
   "id": "8751c4d0-a938-46f1-9437-dde5c4c53c7c",
   "metadata": {},
   "outputs": [
    {
     "name": "stdout",
     "output_type": "stream",
     "text": [
      "[1, 3, 5, 7, 9]\n",
      "[10, 8, 6, 4]\n"
     ]
    }
   ],
   "source": [
    "print(list(range(1, 10, 2))) \n",
    "print(list(range(10, 2, -2)))"
   ]
  },
  {
   "cell_type": "code",
   "execution_count": 16,
   "id": "3250d746-e58c-4c8b-9968-11867cc04516",
   "metadata": {},
   "outputs": [
    {
     "name": "stdout",
     "output_type": "stream",
     "text": [
      "[1 3 5 7 9]\n",
      "[0.  0.2 0.4 0.6 0.8]\n"
     ]
    }
   ],
   "source": [
    "print(np.arange(1, 10, 2))  \n",
    "print(np.arange(0, 1, 0.2))"
   ]
  },
  {
   "cell_type": "markdown",
   "id": "d5ecad97-c097-4b63-adfb-de5034839c23",
   "metadata": {},
   "source": [
    "## Этап 3. Определение функции перемещения и нахождение угла запуска тела"
   ]
  },
  {
   "cell_type": "markdown",
   "id": "fbc51454-bc90-474c-84ec-7b1f55a4d05d",
   "metadata": {},
   "source": [
    "Полагаем, что начало прямоугольной декартовой системы координат соответствует уровню земли.  \n",
    "Тогда в начальный момент движения тела $ t = 0 $ имеем, что  \n",
    "\n",
    "$s_x(0) = 0, \\quad s_y(0) = h_{start}.$\n",
    "\n",
    "Для построения функции перемещения $ (s_x(t), s_y(t)) $ воспользуемся вторым законом Ньютона  \n",
    "\n",
    "$\n",
    "ma = \\mathbf{F},\n",
    "$\n",
    "где $ m $ — масса тела, ускорение движения тела $ \\mathbf{a} = (s''_x(t), s''_y(t)) $  \n",
    "и приложенная сила $ \\mathbf{F} = m(0, -g) $.  \n",
    "В результате имеем два уравнения:\n",
    "\n",
    "$\n",
    "s''_x(t) = 0, \\quad s''_y(t) = -g.\n",
    "$\n",
    "\n",
    "На основании уравнений с учетом начальных условий можно записать аналитический вид для функций $ s_x(t) $ и $ s_y(t) $  \n",
    "\n",
    "$\n",
    "s_x(t) = s_x(0) + v0_{x} t = 0 + v0_{x} t,\n",
    "$\n",
    "\n",
    "$\n",
    "s_y(t) = s_y(0) + v0_{y} t - \\frac{g}{2} t^2 = h_{start} + v0_{y} t - \\frac{g}{2} t^2,\n",
    "$\n",
    "\n",
    "где $ \\mathbf{v_0} = (v0_{x}, v0_{y}) $ обозначает неизвестную скорость движения тела  \n",
    "в начальный момент времени $ t = 0 $."
   ]
  },
  {
   "cell_type": "markdown",
   "id": "076b2884-fe0c-49dc-b6cc-10e128bb5746",
   "metadata": {},
   "source": [
    "$\\color{red}\\text{Движения тела}$, брошенного под углом можно разбить на движения по оси $Oy$ и по оси $Ox$. </br> Вектор скорости в начальный момент времени направлен под углом, его можно также разбить на две проекции $v0_{x}$ и $v0_{y}$. При этом скорость по оси $Ox$ не меняется, поэтому движение по оси $Ox$ равномерное, всё потому, что тело движется под действием ускорения свободного падения, а его проекция на ось $Ox$ равна нулю, поэтому не изменяет никак скорость $v0_{x}$. Отсюда получается, что путь пройденный телом будет высчитываться $v_{0x}t$, а координата будет изменяется как $s_{x}=s_{x}(0)+v_{0x}t$.</br> Направим ось Oy вверх, проекция ускорения свободного падения $g$, будет равна $-g$, соотвественно движение тела равнопеременное и скорость тела будет изменяться во время движения. При этом проекция начальной скорости на ось $Oy$ будет положительной, поэтому путь пройденный телом будет высчитываться как $v0_{y}t-\\frac{g}{2} t^2$, а координата тела изменяется как $s_{y}=s_{y}(0)+v_{0y}t-gt^2/2$. </br>В начальный момент времени координаты $s_{x}(0)=0$, $s_{y}(0)=h_{start}$ .Однако если начальный момент времени будет равен не $t_{0}$, а $t'$, то сам закон движения не изменится, а изменится лишь начальные координаты $s_{x}(0)$ (которую можно будет найти посчитав $v_{0x}t'$, и $s_{y}(0)$ (которую можно найти как $v_{0x}t'-\\frac{g}{2} t^2$"
   ]
  },
  {
   "cell_type": "markdown",
   "id": "f31ac836-95af-40a3-94ea-7c59b9142516",
   "metadata": {},
   "source": [
    "Из условия задачи имеем, что $s_{x}(T)=s_{end}$ . Из этого соотношения находим значение для \n",
    "$v0_{x}$"
   ]
  },
  {
   "cell_type": "code",
   "execution_count": 17,
   "id": "4f6553bc-c4b6-4ceb-9def-50e82e8943f0",
   "metadata": {},
   "outputs": [
    {
     "data": {
      "text/plain": [
       "1.6666666666666667"
      ]
     },
     "execution_count": 17,
     "metadata": {},
     "output_type": "execute_result"
    }
   ],
   "source": [
    "v0_x = s_end/T\n",
    "v0_x"
   ]
  },
  {
   "cell_type": "markdown",
   "id": "c188355a-abfe-42b1-a2c8-0d75f31583ae",
   "metadata": {},
   "source": [
    "Из условия задачи имеем, что $s_{y}(T)=h_{end}$ . Из этого соотношения находим значение для \n",
    "$v_{0y}$"
   ]
  },
  {
   "cell_type": "code",
   "execution_count": 18,
   "id": "22c48a4f-052f-4468-a8cf-38643f092db7",
   "metadata": {},
   "outputs": [
    {
     "data": {
      "text/plain": [
       "15.376641666666666"
      ]
     },
     "execution_count": 18,
     "metadata": {},
     "output_type": "execute_result"
    }
   ],
   "source": [
    "v0_y = (h_end-h_start+g/2*T**2)/T\n",
    "v0_y"
   ]
  },
  {
   "cell_type": "markdown",
   "id": "b21c2da2-d7a5-4180-94e8-9d23046d55cd",
   "metadata": {},
   "source": [
    "Значение угла запуска тела $\\alpha$ определяем из соотношения $tan \\alpha=\\frac{v_{0y}}{v_{0x}}$"
   ]
  },
  {
   "cell_type": "code",
   "execution_count": 19,
   "id": "9b5b768a-2fc3-460d-b92b-bc982c5ec36a",
   "metadata": {},
   "outputs": [
    {
     "data": {
      "text/plain": [
       "(1.462828312588189, 83.81388846354714)"
      ]
     },
     "execution_count": 19,
     "metadata": {},
     "output_type": "execute_result"
    }
   ],
   "source": [
    "alpha = math.atan(v0_y/v0_x)\n",
    "alpha, math.degrees(alpha)"
   ]
  },
  {
   "cell_type": "markdown",
   "id": "259c51b1-df09-4bd5-a384-41e9dea5256f",
   "metadata": {},
   "source": [
    "Результирующая функция перемещения имеет следующий вид"
   ]
  },
  {
   "cell_type": "code",
   "execution_count": 20,
   "id": "fa2cdaeb-a7fd-48e1-aab0-ac9cdd1c33b6",
   "metadata": {},
   "outputs": [
    {
     "data": {
      "text/plain": [
       "'s_x(t) = 1.6666666666666667 t'"
      ]
     },
     "execution_count": 20,
     "metadata": {},
     "output_type": "execute_result"
    }
   ],
   "source": [
    "f's_x(t) = {v0_x} t'"
   ]
  },
  {
   "cell_type": "code",
   "execution_count": 21,
   "id": "146a94b1-d42a-4d98-b3a0-96f342b2b8b8",
   "metadata": {},
   "outputs": [
    {
     "data": {
      "text/plain": [
       "'s_y(t) = 1 + 15.3766 t - 9.80665/2*t²'"
      ]
     },
     "execution_count": 21,
     "metadata": {},
     "output_type": "execute_result"
    }
   ],
   "source": [
    "f's_y(t) = {h_start} + {v0_y:.6} t - {g:.6}/2*t\\N{superscript two}'"
   ]
  },
  {
   "cell_type": "markdown",
   "id": "d588d97d-5b5f-4565-81c4-3f63c78e63fc",
   "metadata": {},
   "source": [
    "## Этап 4. Построение графика траектории движения тела"
   ]
  },
  {
   "cell_type": "markdown",
   "id": "4a8042dd-69ba-4568-95a9-9e0adec035e9",
   "metadata": {},
   "source": [
    "Построение графиков функций осуществляется по координатам точек графика. Для\n",
    "этого нужно создать последовательность значений $x$-координат точек графика функции и последовательность соответствующих значений $y$-координат точек\n",
    "графика функции.</br> На этапе 2 было создано две последовательности равномерно распределенных чисел на отрезке $[0,T]$ с шагом 0.01 для переменной времени $t$"
   ]
  },
  {
   "cell_type": "code",
   "execution_count": 22,
   "id": "063ab70e-0051-4391-90b6-4efe2bf374f8",
   "metadata": {},
   "outputs": [],
   "source": [
    "t_list, t_array; "
   ]
  },
  {
   "cell_type": "markdown",
   "id": "0b006bcd-52e8-40ac-98d0-25f820dd7bcf",
   "metadata": {},
   "source": [
    "Определим списки чисел, соответствующие горизонтальным и вертикальным\n",
    "составляющим положения тела в моменты времени `t_list` с использованием\n",
    "формул, полученных на этапе 3:"
   ]
  },
  {
   "cell_type": "code",
   "execution_count": 23,
   "id": "74653cfd-db27-4953-89b5-b38b63113fc0",
   "metadata": {},
   "outputs": [],
   "source": [
    "s_x_list = [v0_x*t for t in t_list]\n",
    "s_y_list = [h_start+v0_y*t-g*t**2/2 for t in t_list]"
   ]
  },
  {
   "cell_type": "markdown",
   "id": "dedf2bf4-27c1-4fa9-bfea-54c7676a29f6",
   "metadata": {},
   "source": [
    "Определим массивы чисел, соответствующие горизонтальным и вертикальным\n",
    "составляющим положения тела в момент времени `t_array` :"
   ]
  },
  {
   "cell_type": "code",
   "execution_count": 24,
   "id": "90c9c382-6651-4b02-a401-8cca74dbb791",
   "metadata": {},
   "outputs": [],
   "source": [
    "s_x_array = v0_x*t_array\n",
    "s_y_array = h_start+v0_y*t_array-g*t_array**2/2"
   ]
  },
  {
   "cell_type": "markdown",
   "id": "13cab271-7121-419d-bee6-b6c495f1b11f",
   "metadata": {},
   "source": [
    "Арифметические действия с массивом `ndarray` выполняются **поэлементно** без доп синтаксика </br>\n",
    "Строим график траектории движения тела, используя инструменты модуля `pyplot` пакета `matplotlib`"
   ]
  },
  {
   "cell_type": "code",
   "execution_count": 25,
   "id": "5e71e5b0-d299-4026-816a-2db743a9eaea",
   "metadata": {},
   "outputs": [
    {
     "data": {
      "text/plain": [
       "(0.0, 5.0, 0.0, 14.0)"
      ]
     },
     "execution_count": 25,
     "metadata": {},
     "output_type": "execute_result"
    },
    {
     "data": {
      "image/png": "[encoded data removed]",
      "text/plain": [
       "<Figure size 640x480 with 1 Axes>"
      ]
     },
     "metadata": {},
     "output_type": "display_data"
    }
   ],
   "source": [
    "plt.figure()\n",
    "plt.plot(s_x_list,s_y_list,'b-',lw=5)\n",
    "plt.title('Вертикальное перемещение тела')\n",
    "plt.xlabel('x (m)'); plt.ylabel('y (m)') \n",
    "plt.axis([0, s_end, 0, h_end+11])"
   ]
  },
  {
   "cell_type": "markdown",
   "id": "fa8725ca-6c20-4f33-b8ed-fe275c07f689",
   "metadata": {},
   "source": [
    "При вызове функции `plot` из `pyplot` можно использовать как списки, так и\n",
    "массивы."
   ]
  },
  {
   "cell_type": "code",
   "execution_count": 26,
   "id": "be859433-61ab-4087-8549-6f26206fe541",
   "metadata": {},
   "outputs": [
    {
     "data": {
      "image/png": "[encoded data removed]",
      "text/plain": [
       "<Figure size 640x480 with 1 Axes>"
      ]
     },
     "metadata": {},
     "output_type": "display_data"
    }
   ],
   "source": [
    "plt.figure()\n",
    "plt.plot(s_x_array,s_y_array,color='green',lw=3)\n",
    "plt.title('Вертикальное перемещение тела')\n",
    "plt.xlabel('x (m)'); plt.ylabel('y (m)')\n",
    "plt.xlim(0, s_end)\n",
    "plt.ylim(0, h_end+11);"
   ]
  },
  {
   "cell_type": "markdown",
   "id": "a1294169-9d60-43e8-a895-e1ce1e9102ff",
   "metadata": {},
   "source": [
    "# Задача 1.2. Определение момента касания телом "
   ]
  },
  {
   "cell_type": "markdown",
   "id": "1ff8c3f2-ed51-4f65-97cf-3016a213164d",
   "metadata": {},
   "source": [
    "*Подход 1* (**точное решение**): \n",
    "время касания телом земли находим как точное решение уравнения $ s_y(t) = 0 $;\n",
    "\n",
    "*Подход 2* (**приближенное решение**)\n",
    "\n",
    "- Построить последовательность $ s_y $ на временном отрезке $ [0, t_{stop}] $,  \n",
    "  чтобы момент касания тела земли $ t^* $ попадал в выбранный отрезок,  \n",
    "  т.е. $ t^* \\in [0, t_{stop}] $.  \n",
    "  Отметим, что $ t_{stop} > T $, где значение $ T $ задается в Задании 1.1.\n",
    "\n",
    "- Найти в построенной последовательности $ s_y $ два соседних элемента  \n",
    "  последовательности, значения которых меняют знак.  \n",
    "  Т. е. найти значение индекса $ k $, для которого $ s_y[k] s_y[k+1] < 0 $.  \n",
    "  Это будет означать, что  \n",
    " $\n",
    "  0 \\in (s_y[k], s_y[k+1]).\n",
    "  $\n",
    "\n",
    "- Построить прямую линию $ s_{lin}(t) $, проходящую через две точки  \n",
    "  $ (t[k], s_y[k]) $ и $ (t[k+1], s_y[k+1]) $  \n",
    "  и найти значение $ t^* \\in (t[k], t[k+1]) $ из условия  \n",
    "  $\n",
    "  s_{lin}(t^*) = 0.\n",
    "  $\n",
    "  Найденное значение $ t^* $ будет соответствовать точке $ (t^*, 0) $  \n",
    "  на прямой $ s_{lin}(t) $.  \n",
    "  **$\\color{red}\\text{Привести}$** в документе формулы для прямой $ s_{lin}(t) $  \n",
    "  и для вычисления $ t^* $.\n",
    "\n",
    "**$\\color{red}\\text{Сравнить}$** точное решение (**Подход 1**) и приближенное решение (**Подход 2**), вычислив относительную ошибку.\n"
   ]
  },
  {
   "cell_type": "markdown",
   "id": "87f8130e-a3c9-47c3-809f-7cea720ffa73",
   "metadata": {},
   "source": [
    "Рассмотрим *Подход 1* выполнения Задания 1.2. о $\\color{red}\\text{нахождении}$ момента времени касания тела земли\n",
    "\n",
    "Для решения алгебраического уравнения $s_{y}(t) = 0$ воспользуемся функцией `solve` из модуля `sympy`, которая предназначена для решения алгебраических уравнений и систем уравнений.  \n",
    "Для выполнения функции `solve` предварительно с помощью функции `symbols` необходимо создать **символьную переменную**, относительно которой будет определено уравнение.\n"
   ]
  },
  {
   "cell_type": "code",
   "execution_count": 27,
   "id": "cd6f2055-e17b-4cf3-8cec-0253b34c0bce",
   "metadata": {},
   "outputs": [
    {
     "data": {
      "text/plain": [
       "[-0.0637382309488101, 3.19970039267921]"
      ]
     },
     "execution_count": 27,
     "metadata": {},
     "output_type": "execute_result"
    }
   ],
   "source": [
    "t = sympy.symbols('t')\n",
    "result = sympy.solve(h_start + v0_y * t - g * t**2 / 2, t)\n",
    "result"
   ]
  },
  {
   "cell_type": "code",
   "execution_count": 28,
   "id": "4487942f-3753-4b10-8fda-578522ae1437",
   "metadata": {},
   "outputs": [
    {
     "data": {
      "text/latex": [
       "$\\displaystyle 3.19970039267921$"
      ],
      "text/plain": [
       "3.19970039267921"
      ]
     },
     "execution_count": 28,
     "metadata": {},
     "output_type": "execute_result"
    }
   ],
   "source": [
    "t_star_exact = result[-1]\n",
    "t_star_exact"
   ]
  },
  {
   "cell_type": "markdown",
   "id": "23ece8fe-d192-4f44-b339-97a3616d8cbb",
   "metadata": {},
   "source": [
    "Cпецификации функций `symbols` и `solve` из модуля `sympy`. </br>\n",
    "**Функция** `symbols` создаёт символьную переменную, с которой можно работать в `sympy`</br>\n",
    "**Функция** `solve(equation, variable)`\n",
    "Решает алгебраическое уравнение относительно заданной переменной"
   ]
  },
  {
   "cell_type": "code",
   "execution_count": 29,
   "id": "65979c25-1a7f-4738-a41d-4ccdacef039f",
   "metadata": {},
   "outputs": [
    {
     "name": "stdout",
     "output_type": "stream",
     "text": [
      "[-1, 5]\n"
     ]
    }
   ],
   "source": [
    "x=sympy.symbols('x')\n",
    "y=sympy.solve(x**2-4*x-5,x)\n",
    "print(y)"
   ]
  },
  {
   "cell_type": "markdown",
   "id": "f553e2af-809f-4722-9b77-bef8e2780539",
   "metadata": {},
   "source": [
    "Задание 1.2 на основе *Подхода 2*:\n",
    "- для поиска индекса $k $, для которого $s_{y}[k] s_{y}[k+1] < 0 $, используйте цикл `for` по последовательности $s_{y}$ в сочетании с `enumerate`;\n",
    "- для вычисления $ t^* $ используйте построенную формулу.\n",
    "\n",
    "Разложим начальную скорость на компоненты:\n",
    "- Горизонтальная: $ v0_{x} = v0\\cos\\theta $\n",
    "- Вертикальная: $ v0_{y} = v0\\sin\\theta $\n",
    "\n",
    " 2. Найдём время полёта\n",
    "Закон движения по вертикали:\n",
    "$$ s_y = h_{start} + v0_{y} t - \\frac{1}{2} g t^2 $$\n",
    "\n",
    "При касании земли $ s_y = 0 $, поэтому это квадратное уравнение относительно $ t $, решаем по формуле:\n",
    "$$ t = \\frac{v_{0y} + \\sqrt{v_{0y}^2 + 2gh}}{g} $$\n",
    "(Берём только положительный корень, так как время не может быть отрицательным.)\n",
    "$$s_x=v0_x*t$$\n",
    "Подставляем $ t $:\n",
    "$$ x = v0 \\cos\\theta \\cdot \\frac{v_0 \\sin\\theta + \\sqrt{v_0^2 \\sin^2\\theta + 2gh}}{g} $$\n",
    "Эта формула даёт дальность полёта в зависимости от начальной скорости и угла броска."
   ]
  },
  {
   "cell_type": "markdown",
   "id": "b0b25ac1-0f5f-45f2-b068-8b14d25eb4cc",
   "metadata": {},
   "source": [
    "Теперь найдем время вторым подходом"
   ]
  },
  {
   "cell_type": "code",
   "execution_count": 30,
   "id": "712d2275-e7ee-408d-ad48-f175f8e405d8",
   "metadata": {},
   "outputs": [],
   "source": [
    "t_stop=4.0\n",
    "t_liststop= [0 + i*step for i in range(int(t_stop/0.01))]\n",
    "s_ylist=[h_start+v0_y*t-g*t**2/2 for t in t_liststop]"
   ]
  },
  {
   "cell_type": "code",
   "execution_count": 31,
   "id": "f6743ba7-e686-425c-bd04-153475af50df",
   "metadata": {},
   "outputs": [],
   "source": [
    "for i, x in enumerate(s_ylist):\n",
    "    if s_ylist[i] * s_ylist[i + 1] < 0:  # Проверка смены знака\n",
    "        k = i\n",
    "        break  \n",
    "t1, t2 = t_liststop[k], t_liststop[k+1]\n",
    "s1, s2 = s_ylist[k], s_ylist[k+1]"
   ]
  },
  {
   "cell_type": "markdown",
   "id": "dee9c312-b63a-49bb-be3e-97e69cd495b5",
   "metadata": {},
   "source": [
    "Уравнение прямой через две точки $ (x_1, y_1) $ и $ (x_2, y_2) $:  \n",
    "\n",
    "$$\n",
    "s = mt + b\n",
    "$$\n",
    "\n",
    "где:  \n",
    "\n",
    "- **Наклон (угловой коэффициент) $ m $**:  \n",
    "\n",
    "$$\n",
    "m = \\frac{s[k+1] - s[k]}{t_{\\text{liststop}}[k+1] - t_{\\text{liststop}}[k]}\n",
    "$$\n",
    "\n",
    "- **Свободный член $ b $**:  \n",
    "\n",
    "$$\n",
    "b = s[k] - m \\cdot t_{\\text{liststop}}[k]\n",
    "$$\n"
   ]
  },
  {
   "cell_type": "code",
   "execution_count": 32,
   "id": "6b1e7b9d-3250-4d0f-9a22-9ea986204a8c",
   "metadata": {},
   "outputs": [
    {
     "name": "stdout",
     "output_type": "stream",
     "text": [
      "3.1996994995400283\n"
     ]
    }
   ],
   "source": [
    "m = (s2 - s1) / (t2 - t1)\n",
    "b = s1 - m * t1\n",
    "t_fall= -b / m\n",
    "print(t_fall)"
   ]
  },
  {
   "cell_type": "markdown",
   "id": "fd44ba14-4c2a-472c-92c8-f51d745fe358",
   "metadata": {},
   "source": [
    "Вычислим относительную ошибку второго подхода\n",
    "$$ \\varepsilon = \\left| \\frac{x_{подход1} - x_{подход2}}{x_{подоход1}} \\right| \\times 100\\% $$"
   ]
  },
  {
   "cell_type": "code",
   "execution_count": 33,
   "id": "4a4b84ab-e566-4f18-9c1b-a7e97eb00f70",
   "metadata": {},
   "outputs": [
    {
     "data": {
      "text/latex": [
       "$\\displaystyle 2.79132127839983 \\cdot 10^{-7}$"
      ],
      "text/plain": [
       "2.79132127839983e-7"
      ]
     },
     "execution_count": 33,
     "metadata": {},
     "output_type": "execute_result"
    }
   ],
   "source": [
    "(t_star_exact-t_fall)/t_star_exact"
   ]
  },
  {
   "cell_type": "markdown",
   "id": "201ba8f9-3f14-4141-bcb4-267b21794aef",
   "metadata": {},
   "source": [
    "# Задача 1.3. Построение секущей, касательной к нормали графику функции"
   ]
  },
  {
   "cell_type": "markdown",
   "id": "f8fdf228-6aac-40d0-982d-5392929e5502",
   "metadata": {},
   "source": [
    "$\\color{red}{\\text{Построим}}$ в одной графической области:\n",
    "- график траектории движения тела $(s_x(t), s_y(t))$ для $ t \\in [0, T] $ из Задания 1.1;\n",
    "- График секущей прямой к траектории движения тела, проходящей через начальную точку при $ t = 0 $ и конечную точку при $ t = T $;\n",
    "- график касательной прямой к траектории движения тела в начальной точке при $ t = 0 $;\n",
    "- график нормальной прямой к траектории движения тела в начальной точке при $ t = 0 $. </br>\n",
    "Построение графиков функций осуществляется по координатам точек графика. Для построения графиков прямых линий (секущая, касательная, нормаль) используйте только две точки"
   ]
  },
  {
   "cell_type": "markdown",
   "id": "b133e80c-f3a9-4fc1-9a88-91fd8a7521cd",
   "metadata": {},
   "source": [
    "Подготовим необходимые данные для построения секущей прямой к траектории движения тела.  \n",
    "\n",
    "Воспользуемся *векторно-параметрическим уравнением прямой* для заданной точки $ p_{start} $, лежащей на прямой, и заданного направляющего вектора $ a $  \n",
    "\n",
    "$$\n",
    "p(t) = p_{start} + at.\n",
    "$$  \n",
    "\n",
    "Направляющий вектор можно определить как $ a = p_{end} - p_{start} $, где точка $ p_{end} $ лежит на прямой и отлична от точки $ p_{start} $.  \n",
    "\n",
    "Введем новые переменные для описания начальной точки $ p_{start} $ и конечной точки $ p_{end} $ через их координаты. Для новых переменных используем тип массив (`ndarray`) из `numpy`. Представление координат точек в виде массивов иногда эффективнее, чем представление в виде списков, для дальнейшей работы с координатами.\n"
   ]
  },
  {
   "cell_type": "code",
   "execution_count": 34,
   "id": "6beb815f-13cc-421c-9262-e745c042c09c",
   "metadata": {},
   "outputs": [
    {
     "data": {
      "text/plain": [
       "(array([0., 1.]), array([4.98333333, 3.13994275]))"
      ]
     },
     "execution_count": 34,
     "metadata": {},
     "output_type": "execute_result"
    }
   ],
   "source": [
    "p_start = np.array([s_x_array[0],s_y_array[0]])\n",
    "p_end = np.array([s_x_array[-1],s_y_array[-1]])\n",
    "p_start, p_end"
   ]
  },
  {
   "cell_type": "markdown",
   "id": "c0df5b91-fe53-4350-b771-a4dd4841ee2d",
   "metadata": {},
   "source": [
    "Вычислим направляющий вектор:"
   ]
  },
  {
   "cell_type": "code",
   "execution_count": 35,
   "id": "c05674f2-bba2-4ae5-9860-90438b9608b1",
   "metadata": {},
   "outputs": [],
   "source": [
    "a = p_end-p_start"
   ]
  },
  {
   "cell_type": "markdown",
   "id": "0810cfee-568b-46d2-bfa1-5328ccac245b",
   "metadata": {},
   "source": [
    "Для построения графика прямой достаточно задания двух точек, лежащих на\n",
    "прямой:"
   ]
  },
  {
   "cell_type": "code",
   "execution_count": 36,
   "id": "e510e823-89fa-4f55-af12-ff5ef67ee663",
   "metadata": {},
   "outputs": [
    {
     "name": "stdout",
     "output_type": "stream",
     "text": [
      "[[-4.98333333 -1.13994275]\n",
      " [ 9.96666667  5.2798855 ]]\n"
     ]
    }
   ],
   "source": [
    "p = [p_start + a*t for t in [-1, 2]]\n",
    "p = np.array(p)\n",
    "print(p)"
   ]
  },
  {
   "cell_type": "markdown",
   "id": "58b2947a-e03d-4ec1-a3c9-e3953ee9719f",
   "metadata": {},
   "source": [
    "Построим график траектории движения тела и график секущей прямой в одной\n",
    "графической области:"
   ]
  },
  {
   "cell_type": "code",
   "execution_count": 37,
   "id": "2068cdb3-d05d-45af-af05-342bc1291bfc",
   "metadata": {},
   "outputs": [
    {
     "data": {
      "image/png": "[encoded data removed]",
      "text/plain": [
       "<Figure size 640x480 with 1 Axes>"
      ]
     },
     "metadata": {},
     "output_type": "display_data"
    }
   ],
   "source": [
    "fig = plt.figure()\n",
    "plt.plot(s_x_array,s_y_array,'b-',lw=5)\n",
    "plt.plot(p[:,0],p[:,1],'--',color='red',lw=1)\n",
    "plt.xlabel('x (m)'); plt.ylabel('y (m)')\n",
    "plt.axis([-5, s_end+5, 0, h_end+11]);"
   ]
  },
  {
   "cell_type": "markdown",
   "id": "ef2ac10f-8e64-43ec-8b45-1e6d6136516b",
   "metadata": {},
   "source": [
    "# Определение углового коэффициента\n",
    "\n",
    "Для построения касательной прямой к траектории движения тела в момент времени $t = 0$ воспользуемся уравнением прямой, проходящей через точку $p_{\\text{start}}(x_{\\text{start}}, y_{\\text{start}})$ с угловым коэффициентом $k$:\n",
    "\n",
    "$$\n",
    "y = k(x - x_{\\text{start}}) + y_{\\text{start}}\n",
    "$$\n",
    "\n",
    "Угловой коэффициент $k$ определяется как производная $s'(t)$ в точке $t=0$. У нас есть параметрическое представление траектории $(x(t), y(t))$, значит $k$ можно вычислить как:\n",
    "\n",
    "$$\n",
    "k = \\frac{dy}{dx} = \\frac{y'(t)}{x'(t)}\n",
    "$$\n",
    "\n",
    "при $t = 0$.\n",
    "\n",
    "### Уравнение нормальной прямой\n",
    "\n",
    "Нормальная прямая является перпендикулярной касательной и проходит через ту же точку $p_{\\text{start}}$. Для нахождения её углового коэффициента воспользуемся свойством перпендикулярности:  \n",
    "\n",
    "Если две прямые перпендикулярны, то произведение их угловых коэффициентов равно $-1$:\n",
    "\n",
    "$$\n",
    "k_{\\text{normal}} = -\\frac{1}{k}\n",
    "$$\n",
    "\n",
    "Тогда уравнение нормальной прямой примет вид:\n",
    "\n",
    "$$\n",
    "y = k_{\\text{normal}} (x - x_{\\text{start}}) + y_{\\text{start}}\n",
    "$$"
   ]
  },
  {
   "cell_type": "code",
   "execution_count": 38,
   "id": "add171fe-11e3-42d4-9d36-96c102e59512",
   "metadata": {},
   "outputs": [],
   "source": [
    "s_x=v0_x*t\n",
    "s_y=h_start+v0_y*t+g*t**2/2\n",
    "t=sympy.symbols('t')\n",
    "s_difx=sympy.diff(s_x, t)\n",
    "s_dify=sympy.diff(s_y, t)\n",
    "k=s_dify.subs(t,0)/s_difx.subs(t,0)\n",
    "y_kasstart = np.array([s_x_array[0],s_y_array[0]])\n",
    "y_kasend = np.array([s_x_array[0]+1,k+s_y_array[0]])\n",
    "y_kas=[y_kasstart+ (y_kasend-y_kasstart)*t for t in [-1, 2]]\n",
    "y_kas = np.array(y_kas)\n",
    "y_norstart = np.array([s_x_array[0],s_y_array[0]])\n",
    "y_norend = np.array([s_x_array[0]+1,-1/k+s_y_array[0]])\n",
    "y_nor=[y_norstart+ (y_norend-y_norstart)*t for t in [-6, 10]]\n",
    "y_nor = np.array(y_nor)"
   ]
  },
  {
   "cell_type": "code",
   "execution_count": 39,
   "id": "11c26972-da21-426b-8ea4-ef0f5c383032",
   "metadata": {},
   "outputs": [
    {
     "data": {
      "image/png": "[encoded data removed]",
      "text/plain": [
       "<Figure size 640x480 with 1 Axes>"
      ]
     },
     "metadata": {},
     "output_type": "display_data"
    }
   ],
   "source": [
    "fig = plt.figure()\n",
    "plt.plot(s_x_array,s_y_array,'b-',lw=5)\n",
    "plt.plot(p[:,0],p[:,1],'--',color='red',lw=1)\n",
    "plt.plot(y_kas[:,0], y_kas[:,1], color='orange', lw=3)\n",
    "plt.plot(y_nor[:,0],y_nor[:,1],color='green',lw=3)\n",
    "plt.xlabel('x (m)'); plt.ylabel('y (m)')\n",
    "plt.axis([-5, s_end+5, 0, h_end+11]);"
   ]
  },
  {
   "cell_type": "markdown",
   "id": "96cdfdbc-ec43-43d8-8531-c578e117e827",
   "metadata": {},
   "source": [
    "## Задача 1.4. Построение графиков функций"
   ]
  },
  {
   "cell_type": "markdown",
   "id": "adc5490b-3afa-4bf9-a9a6-3b43ca868b59",
   "metadata": {},
   "source": [
    " #### 1. *Декартов лист*"
   ]
  },
  {
   "cell_type": "markdown",
   "id": "e68ab67b-48cb-4a13-88ca-0c6370e5abdf",
   "metadata": {},
   "source": [
    " a) *полярная система*"
   ]
  },
  {
   "cell_type": "code",
   "execution_count": 43,
   "id": "88cf2053-2172-4115-bc83-707ca96393e5",
   "metadata": {},
   "outputs": [
    {
     "data": {
      "text/plain": [
       "[<matplotlib.lines.Line2D at 0x2857133aab0>]"
      ]
     },
     "execution_count": 43,
     "metadata": {},
     "output_type": "execute_result"
    },
    {
     "data": {
      "image/png": "[encoded data removed]",
      "text/plain": [
       "<Figure size 640x480 with 1 Axes>"
      ]
     },
     "metadata": {},
     "output_type": "display_data"
    }
   ],
   "source": [
    "plt.figure()\n",
    "plt.axes(projection='polar')\n",
    "phi = np.arange(-np.pi/4 + 0.1, 3*np.pi/4 - 0.1, 0.001)\n",
    "a = 3\n",
    "r = (3 * a * np.sin(phi) * np.cos(phi)) / (np.sin(phi)**3 + np.cos(phi)**3)\n",
    "plt.plot(phi + (r < 0) * np.pi, abs(r), 'r.')"
   ]
  },
  {
   "cell_type": "markdown",
   "id": "4de2f685-a566-494e-89c2-6d887b66ef4f",
   "metadata": {},
   "source": [
    "б) *полярная система*"
   ]
  },
  {
   "cell_type": "code",
   "execution_count": 41,
   "id": "1a53cd5f-248a-479a-a24a-f9de4affc952",
   "metadata": {},
   "outputs": [
    {
     "data": {
      "text/plain": [
       "Text(0, 0.5, 'y')"
      ]
     },
     "execution_count": 41,
     "metadata": {},
     "output_type": "execute_result"
    },
    {
     "data": {
      "image/png": "[encoded data removed]",
      "text/plain": [
       "<Figure size 640x480 with 1 Axes>"
      ]
     },
     "metadata": {},
     "output_type": "display_data"
    }
   ],
   "source": [
    "t = np.arange(-2, 2, 0.01)\n",
    "x = (3 * t**2 + 1) / (3 * t**3 + 1)\n",
    "y = np.sin(t**3 / 3 + t)\n",
    "plt.figure()\n",
    "plt.plot(x, y, 'b.')\n",
    "plt.xlabel('x'); plt.ylabel('y')"
   ]
  },
  {
   "cell_type": "code",
   "execution_count": null,
   "id": "9f279fed-294f-48b9-9cff-8803f16f5963",
   "metadata": {},
   "outputs": [],
   "source": []
  }
 ],
 "metadata": {
  "kernelspec": {
   "display_name": "Python 3 (ipykernel)",
   "language": "python",
   "name": "python3"
  },
  "language_info": {
   "codemirror_mode": {
    "name": "ipython",
    "version": 3
   },
   "file_extension": ".py",
   "mimetype": "text/x-python",
   "name": "python",
   "nbconvert_exporter": "python",
   "pygments_lexer": "ipython3",
   "version": "3.12.7"
  }
 },
 "nbformat": 4,
 "nbformat_minor": 5
}
